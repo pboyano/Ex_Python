{
  "nbformat": 4,
  "nbformat_minor": 0,
  "metadata": {
    "colab": {
      "name": "Lista003.ipynb",
      "provenance": [],
      "collapsed_sections": [],
      "authorship_tag": "ABX9TyMYD3HaPjOTDMOUfdi6GrEF",
      "include_colab_link": true
    },
    "kernelspec": {
      "name": "python3",
      "display_name": "Python 3"
    },
    "language_info": {
      "name": "python"
    }
  },
  "cells": [
    {
      "cell_type": "markdown",
      "metadata": {
        "id": "view-in-github",
        "colab_type": "text"
      },
      "source": [
        "<a href=\"https://colab.research.google.com/github/pboyano/Ex_Python/blob/main/Lista003.ipynb\" target=\"_parent\"><img src=\"https://colab.research.google.com/assets/colab-badge.svg\" alt=\"Open In Colab\"/></a>"
      ]
    },
    {
      "cell_type": "markdown",
      "source": [
        "#Lista de Exercícios PythonBrasil - 003 - Estrutura de repetição\n",
        "#Site: https://wiki.python.org.br/EstruturaDeRepetica"
      ],
      "metadata": {
        "id": "4wcftNPkd-G8"
      }
    },
    {
      "cell_type": "code",
      "source": [
        "#001 - Faça um programa que peça uma nota, entre zero e dez. \n",
        "#Mostre uma mensagem caso o valor seja inválido e continue pedindo até que o usuário informe um valor válido.\n",
        "\n",
        "nota = float(input('Insira uma nota entre 0 e 10: '))\n",
        "\n",
        "while nota < 0 or nota > 10:\n",
        "  nota = float(input('inválido, tente novamente: '))\n",
        "\n",
        "print('Nota válida')"
      ],
      "metadata": {
        "id": "featK5Jjed1n"
      },
      "execution_count": null,
      "outputs": []
    },
    {
      "cell_type": "code",
      "source": [
        "#003 - Faça um programa que leia um nome de usuário e a sua senha e não aceite a senha igual ao nome do usuário,\n",
        "# mostrando uma mensagem de erro e voltando a pedir as informações.\n",
        "\n",
        "user = input('Insira um nome de usuário: ')\n",
        "senha = input('Insira uma senha: ')\n",
        "\n",
        "while user == senha:\n",
        "  senha = input('Erro, user e senha iguais, tente novamente uma senha diferente: ')\n",
        "print('Senha válida')"
      ],
      "metadata": {
        "id": "8hpTi5kSzorf"
      },
      "execution_count": null,
      "outputs": []
    },
    {
      "cell_type": "code",
      "source": [
        "#004 - Faça um programa que leia e valide as seguintes informações:\n",
        "#Nome: maior que 3 caracteres;\n",
        "#Idade: entre 0 e 150;\n",
        "#Salário: maior que zero;\n",
        "#Sexo: 'f' ou 'm';\n",
        "#Estado Civil: 's', 'c', 'v', 'd';\n",
        "\n",
        "nome = input('Nome: ')\n",
        "while len(nome) <= 3:\n",
        "  nome = input('Nome curto, tente novamente: ')\n",
        "print('Nome: ',nome)\n",
        "\n",
        "idade = int(input('Idade: '))\n",
        "while idade < 0 or idade > 150:\n",
        "  idade = int(input('Idade inválida, tente novamente: '))\n",
        "print('Idade: ', idade)\n",
        "\n",
        "sal = float(input('Salário: '))\n",
        "while sal < 0:\n",
        "  sal = float(input('Inválido, tente novamente: '))\n",
        "print('Salário: ', sal)\n",
        "\n",
        "sexo = input('Sexo: ')\n",
        "while (sexo != 'f') and (sexo != 'm'):\n",
        "  sexo = input('Sexo inválido, tente f ou m: ') \n",
        "print(sexo)\n",
        "\n",
        "ec = input('Estado civil: ')\n",
        "while (ec != 's') and (ec != 'c') and (ec != 'v') and (ec != 'd'):\n",
        "  ec = input('Estado civil inválido, tente novamente: ')\n",
        "print(ec)"
      ],
      "metadata": {
        "id": "sIv5_8eY0pq0"
      },
      "execution_count": null,
      "outputs": []
    },
    {
      "cell_type": "code",
      "source": [
        "#004 - Supondo que a população de um país A seja da ordem de 80000 habitantes com uma taxa anual de crescimento de 3% e que a \n",
        "#população de B seja 200000 habitantes com uma taxa de crescimento de 1.5%. \n",
        "#Faça um programa que calcule e escreva o número de anos necessários para que a população do país A ultrapasse ou iguale a população do país B, \n",
        "#mantidas as taxas de crescimento.\n",
        "\n",
        "paisA = 80000\n",
        "paisB = 200000\n",
        "ano = 0\n",
        "\n",
        "while paisA < paisB:\n",
        "  paisA *= 1.03\n",
        "  paisB *= 1.015\n",
        "  ano += 1\n",
        "\n",
        "print('Quantidade de anos necessários pro país A ultrapassar o B: ',ano, 'anos.')"
      ],
      "metadata": {
        "id": "Jzc5EKjxJVHS"
      },
      "execution_count": null,
      "outputs": []
    },
    {
      "cell_type": "code",
      "source": [
        "#005 - Altere o programa anterior permitindo ao usuário informar as populações e as taxas de crescimento iniciais.\n",
        "#Valide a entrada e permita repetir a operação.\n",
        "\n",
        "paisA = int(input('Insira a população do país A: '))  \n",
        "crescA = float(input('Insira a taxa de crescimento em %: '))\n",
        "paisB = int(input('Insira a população do país B: '))  \n",
        "crescB = float(input('Insira a taxa de crescimento em %: '))\n",
        "\n",
        "ano = 0\n",
        "while paisA <= paisB:\n",
        "  paisA *= 1 +(crescA/100)\n",
        "  paisB *= 1 +(crescB/100)\n",
        "  ano += 1\n",
        "\n",
        "print('Quantidade de anos para pop A passar a B:',ano)\n"
      ],
      "metadata": {
        "id": "yM9sTJcCOsH9"
      },
      "execution_count": null,
      "outputs": []
    },
    {
      "cell_type": "code",
      "source": [
        "#006 - Faça um programa que imprima na tela os números de 1 a 20, um abaixo do outro. \n",
        "#Depois modifique o programa para que ele mostre os números um ao lado do outro\n",
        "\n",
        "x = 1\n",
        "while x < 21:\n",
        "  print(x)\n",
        "  x += 1"
      ],
      "metadata": {
        "id": "ZaGKhgHvmyQc"
      },
      "execution_count": null,
      "outputs": []
    },
    {
      "cell_type": "code",
      "source": [
        "#006A - Faça um programa que imprima na tela os números de 1 a 20, um abaixo do outro. \n",
        "#Depois modifique o programa para que ele mostre os números um ao lado do outro\n",
        "\n",
        "for x in range(1,21):\n",
        "  print(x, end='')\n",
        "print()"
      ],
      "metadata": {
        "id": "PqT1hTIIo_5K"
      },
      "execution_count": null,
      "outputs": []
    },
    {
      "cell_type": "code",
      "source": [
        "#007 - Faça um programa que leia 5 números e informe o maior número.\n",
        "\n",
        "a = int(input('Número: '))\n",
        "b = int(input('Número: '))\n",
        "c = int(input('Número: '))\n",
        "d = int(input('Número: '))\n",
        "e = int(input('Número: '))\n",
        "\n",
        "lista = max(a, b, c, d, e)\n",
        "print(lista)"
      ],
      "metadata": {
        "id": "xvrLIhafqtIM"
      },
      "execution_count": null,
      "outputs": []
    },
    {
      "cell_type": "code",
      "source": [
        "#008 - Faça um programa que leia 5 números e informe a soma e a média dos números.\n",
        "a = int(input('Número: '))\n",
        "b = int(input('Número: '))\n",
        "c = int(input('Número: '))\n",
        "d = int(input('Número: '))\n",
        "e = int(input('Número: '))\n",
        "soma = (a+b+c+d+e)\n",
        "media = (a+b+c+d+e)/5\n",
        "\n",
        "print(soma)\n",
        "print(media)"
      ],
      "metadata": {
        "id": "owSJvRPkvQxZ"
      },
      "execution_count": null,
      "outputs": []
    },
    {
      "cell_type": "code",
      "source": [
        "#009 - Faça um programa que imprima na tela apenas os números ímpares entre 1 e 50.\n",
        "\n",
        "for x in range(1,51):\n",
        "  if x %2 != 0: \n",
        "        print(x, end=', ') \n"
      ],
      "metadata": {
        "id": "-A5ZeeKa3tC-"
      },
      "execution_count": null,
      "outputs": []
    },
    {
      "cell_type": "code",
      "source": [
        "#010 - Faça um programa que receba dois números inteiros e gere os números inteiros que estão no intervalo compreendido por eles.\n",
        "\n",
        "a = int(input('Número inteiro: '))\n",
        "b = int(input('Número inteiro: '))\n",
        "\n",
        "for i in range(a+1, b):\n",
        "  print(i)"
      ],
      "metadata": {
        "id": "H5KOZB7d0yu_"
      },
      "execution_count": null,
      "outputs": []
    },
    {
      "cell_type": "code",
      "source": [
        "#011 - Altere o programa anterior para mostrar no final a soma dos números\n",
        "a = int(input('Número inteiro: '))\n",
        "b = int(input('Número inteiro: '))\n",
        "\n",
        "soma = 0\n",
        "for i in range(a,b):\n",
        "  soma = soma + i\n",
        "print(soma)"
      ],
      "metadata": {
        "id": "xzmrB01H7e1M"
      },
      "execution_count": null,
      "outputs": []
    },
    {
      "cell_type": "code",
      "source": [
        "#012 - Desenvolva um gerador de tabuada, capaz de gerar a tabuada de qualquer número inteiro entre 1 a 10. \n",
        "#O usuário deve informar de qual numero ele deseja ver a tabuada. A saída deve ser conforme o exemplo abaixo:\n",
        "#Tabuada de 5:\n",
        "#5 X 1 = 5\n",
        "#5 X 2 = 10\n",
        "#5 X 10 = 50\n",
        "\n",
        "a = int(input('Qual tabuada você deseja exibir? '))\n",
        "\n",
        "for i in range(11):\n",
        "  tabuada = i*a\n",
        "  print(a,'X', i, '=', tabuada)"
      ],
      "metadata": {
        "id": "v5h_VkmGLEZu"
      },
      "execution_count": null,
      "outputs": []
    },
    {
      "cell_type": "code",
      "source": [
        "#013 - Faça um programa que peça dois números, base e expoente, calcule e mostre o primeiro número elevado ao segundo número. \n",
        "#Não utilize a função de potência da linguagem.\n",
        "\n",
        "base = int(input('Base: '))\n",
        "exp = int(input('Expoente: '))\n",
        "\n",
        "pot = 1\n",
        "for count in range(exp):\n",
        "  pot  *= base\n",
        "  count += 1\n",
        "\n",
        "print(base,'^',exp,'=',pot)"
      ],
      "metadata": {
        "id": "M-lOwQoFPTA4"
      },
      "execution_count": null,
      "outputs": []
    },
    {
      "cell_type": "code",
      "source": [
        "#014 - Faça um programa que peça 10 números inteiros, calcule e mostre a quantidade de números pares e a quantidade de números impares.\n",
        "a = int(input('Digite um número inteiro: '))\n",
        "b = int(input('Digite um número inteiro: '))\n",
        "c = int(input('Digite um número inteiro: '))\n",
        "d = int(input('Digite um número inteiro: '))\n",
        "e = int(input('Digite um número inteiro: '))\n",
        "f = int(input('Digite um número inteiro: '))\n",
        "g = int(input('Digite um número inteiro: '))\n",
        "h = int(input('Digite um número inteiro: '))\n",
        "i = int(input('Digite um número inteiro: '))\n",
        "j = int(input('Digite um número inteiro: '))\n",
        "\n",
        "lista = [a, b, c, d, e, f, g, h, i, j]\n",
        "par = 0\n",
        "impar = 0\n",
        "\n",
        "for i in lista:\n",
        "  if i %2 != 0:\n",
        "    impar += 1\n",
        "  else:\n",
        "    par += 1\n",
        "print('Par:',par)\n",
        "print('Ímpar:',impar)"
      ],
      "metadata": {
        "id": "Xhz1-jyOS8S1"
      },
      "execution_count": null,
      "outputs": []
    },
    {
      "cell_type": "code",
      "source": [
        "#015 - A série de Fibonacci é formada pela seqüência 1,1,2,3,5,8,13,21,34,55,... Faça um programa capaz de gerar a série até o n−ésimo termo.\n",
        "\n",
        "n = int(input('Digite um número: '))\n",
        "a = 0\n",
        "b = 1\n",
        "\n",
        "while a <= n:\n",
        "  print(a)\n",
        "  a, b = b, a + b\n",
        "print()"
      ],
      "metadata": {
        "id": "eOxxb1qVWJIm"
      },
      "execution_count": null,
      "outputs": []
    },
    {
      "cell_type": "code",
      "source": [
        "#016 - A série de Fibonacci é formada pela seqüência 0,1,1,2,3,5,8,13,21,34,55,... Faça um programa que gere a série até que o valor seja maior que 500\n",
        "\n",
        "a = 0\n",
        "b = 1\n",
        "\n",
        "while a <= 500:\n",
        "  print(a)\n",
        "  a, b = b, a + b\n",
        "if a < 500:\n",
        "  print()\n",
        "else:\n",
        "  print(b-(b-a))"
      ],
      "metadata": {
        "id": "jfwvdIffm7xk"
      },
      "execution_count": null,
      "outputs": []
    },
    {
      "cell_type": "code",
      "source": [
        "#017 - Faça um programa que calcule o fatorial de um número inteiro fornecido pelo usuário. Ex.: 5!=5.4.3.2.1=120\n",
        "\n",
        "num = int(input('Insira um número: '))\n",
        "fat = 1\n",
        "\n",
        "while num > 1:\n",
        "  fat *= num\n",
        "  num -= 1\n",
        "\n",
        "print(fat)"
      ],
      "metadata": {
        "id": "X6tETHHyl6a9"
      },
      "execution_count": null,
      "outputs": []
    },
    {
      "cell_type": "code",
      "source": [
        "#018 - Faça um programa que, dado um conjunto de N números, determine o menor valor, o maior valor e a soma dos valores\n",
        "\n",
        "n = int(input('Insira a qtde de números: '))\n",
        "nsum = 0\n",
        "\n",
        "for i in range(n):\n",
        "  num = int(input('Escolha um número inteiro: ')) \n",
        "  nsum += num\n",
        "  if i == 0:\n",
        "    numax = num\n",
        "    numin = num\n",
        "  if num < numin:\n",
        "    numin = num\n",
        "  if num > numax:\n",
        "    numax = num  \n",
        "\n",
        "print('O menor número é: ', numin) \n",
        "print('O maior número é: ', numax)\n",
        "print('A soma dos números do conjunto digitado:', nsum)"
      ],
      "metadata": {
        "id": "7lwPwg1R8v-2"
      },
      "execution_count": null,
      "outputs": []
    },
    {
      "cell_type": "code",
      "source": [
        "#019 - Altere o programa anterior para que ele aceite apenas números entre 0 e 1000.\n",
        "\n",
        "n = int(input('Insira a qtde de números: '))\n",
        "nsum = 0\n",
        "\n",
        "for i in range(n):\n",
        " \n",
        "  num = int(input('Escolha um número inteiro: '))  \n",
        "  while num > 1000:\n",
        "    num = int(input('Tente novamente abaixo de 1000: '))\n",
        "  nsum += num \n",
        "  if i == 0:\n",
        "    numax = num\n",
        "    numin = num\n",
        "  if num < numin:\n",
        "    numin = num\n",
        "  if num > numax:\n",
        "    numax = num  \n",
        "\n",
        "print('O menor número é: ', numin) \n",
        "print('O maior número é: ', numax)\n",
        "print('A soma dos números do conjunto digitado:', nsum)"
      ],
      "metadata": {
        "id": "ZY0KmZxB2IQE"
      },
      "execution_count": null,
      "outputs": []
    },
    {
      "cell_type": "code",
      "source": [
        "#020 - Altere o programa de cálculo do fatorial, permitindo ao usuário calcular o fatorial várias vezes e limitando o fatorial a números inteiros \n",
        "#positivos e menores que 16.\n",
        "\n",
        "num = int(input('Insira um número: '))\n",
        "fat = 1\n",
        "\n",
        "while num > 1:\n",
        "  if num >= 17:\n",
        "    num = int(input('Insira um novo número: '))\n",
        "  if num < 17:\n",
        "    num = int(input('Insira um número: '))\n",
        "    fat *= num\n",
        "    num -= 1\n",
        "    print('Seu número:', num, 'Fatorial:', fat)\n",
        "\n",
        "if num == 0:\n",
        "  print('Fim')"
      ],
      "metadata": {
        "id": "LPsMGYWQ8yj3"
      },
      "execution_count": null,
      "outputs": []
    },
    {
      "cell_type": "code",
      "source": [
        "#021 - Faça um programa que peça um número inteiro e determine se ele é ou não um número primo. \n",
        "#Um número primo é aquele que é divisível somente por ele mesmo e por 1.\n",
        "\n",
        "#022 - Altere o programa de cálculo dos números primos, informando, caso o número não seja primo, por quais número ele é divisível.\n",
        "\n",
        "n = int(input('Digite um número: '))\n",
        "mult = 0\n",
        "\n",
        "for i in range(2,n):\n",
        "  if n % i == 0:\n",
        "    print('Múltiplo de', i)\n",
        "    mult += 1\n",
        "\n",
        "if (mult == 0):\n",
        "  print('É primo')"
      ],
      "metadata": {
        "id": "LKHoyuHvA5Mk"
      },
      "execution_count": null,
      "outputs": []
    },
    {
      "cell_type": "code",
      "source": [
        "#023 - Faça um programa que mostre todos os primos entre 1 e N sendo N um número inteiro fornecido pelo usuário. \n",
        "#O programa deverá mostrar também o número de divisões que ele executou para encontrar os números primos. \n",
        "#Serão avaliados o funcionamento, o estilo e o número de testes (divisões) executados.\n",
        "\n",
        "n = int(input('Insira um número: '))\n",
        "\n",
        "for i in range(1,n):\n",
        "  if n % i == 0:\n",
        "    print('Qtde de divisões', i)\n",
        "    mult += 1\n",
        "\n",
        "if (mult == 0):\n",
        "  print('É primo')"
      ],
      "metadata": {
        "id": "_PW8kehkJbDS"
      },
      "execution_count": null,
      "outputs": []
    }
  ]
}