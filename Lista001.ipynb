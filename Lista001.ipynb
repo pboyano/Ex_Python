{
  "nbformat": 4,
  "nbformat_minor": 0,
  "metadata": {
    "colab": {
      "name": "Lista001.ipynb",
      "provenance": [],
      "authorship_tag": "ABX9TyMd9w/rDB4+9TZh57nSsR9n",
      "include_colab_link": true
    },
    "kernelspec": {
      "name": "python3",
      "display_name": "Python 3"
    },
    "language_info": {
      "name": "python"
    }
  },
  "cells": [
    {
      "cell_type": "markdown",
      "metadata": {
        "id": "view-in-github",
        "colab_type": "text"
      },
      "source": [
        "<a href=\"https://colab.research.google.com/github/pboyano/Ex_Python/blob/main/Lista001.ipynb\" target=\"_parent\"><img src=\"https://colab.research.google.com/assets/colab-badge.svg\" alt=\"Open In Colab\"/></a>"
      ]
    },
    {
      "cell_type": "markdown",
      "source": [
        "#Lista de exercícios PythonBrasil - 001 - Estrutura Sequencial\n",
        "#Site: https://wiki.python.org.br/EstruturaSequencial"
      ],
      "metadata": {
        "id": "Bw_dQv5hYeJ1"
      }
    },
    {
      "cell_type": "code",
      "execution_count": null,
      "metadata": {
        "colab": {
          "base_uri": "https://localhost:8080/"
        },
        "id": "JXLGCPtSrRVT",
        "outputId": "f40274c0-addc-4f0d-bd79-054f731c5486"
      },
      "outputs": [
        {
          "output_type": "stream",
          "name": "stdout",
          "text": [
            "Olá Mundo\n"
          ]
        }
      ],
      "source": [
        "#001 - Faça um Programa que mostre a mensagem \"Alo mundo\" na tela.\n",
        "print(\"Olá Mundo\")"
      ]
    },
    {
      "cell_type": "code",
      "source": [
        "#002 - Faça um Programa que peça um número e então mostre a mensagem O número informado foi [número]\n",
        "n = int(input('O número informado foi   '))"
      ],
      "metadata": {
        "colab": {
          "base_uri": "https://localhost:8080/"
        },
        "id": "eA-qQOiHsXqu",
        "outputId": "781609cf-e8c3-44e0-aaa5-9b7884b86a5d"
      },
      "execution_count": null,
      "outputs": [
        {
          "name": "stdout",
          "output_type": "stream",
          "text": [
            "O número informado foi   5\n"
          ]
        }
      ]
    },
    {
      "cell_type": "code",
      "source": [
        "#003 - Faça um Programa que peça dois números e imprima a soma.\n",
        "n1 = int(input('Insira um número aqui   '))\n",
        "n2 = int(input('Insira outro número aqui   '))\n",
        "soma = n1 + n2\n",
        "print(soma)"
      ],
      "metadata": {
        "colab": {
          "base_uri": "https://localhost:8080/"
        },
        "id": "z8TE8dyls04Y",
        "outputId": "037585c5-5d6e-42e7-d4fe-4e4b8cc95164"
      },
      "execution_count": null,
      "outputs": [
        {
          "output_type": "stream",
          "name": "stdout",
          "text": [
            "Insira um número aqui   6\n",
            "Insira outro número aqui   7\n",
            "13\n"
          ]
        }
      ]
    },
    {
      "cell_type": "code",
      "source": [
        "#004 - Faça um Programa que peça as 4 notas bimestrais e mostre a média.\n",
        "n1 = int(input('Insira a primeira nota   '))\n",
        "n2 = int(input('Insira a segunda nota   '))\n",
        "n3 = int(input('Insira a primeirterceira nota   '))\n",
        "n4 = int(input('Insira a quarta nota   '))\n",
        "média = (n1 + n2 + n3 + n4)/4\n",
        "print(média)"
      ],
      "metadata": {
        "colab": {
          "base_uri": "https://localhost:8080/"
        },
        "id": "PVk9zqw-tXLr",
        "outputId": "5d794b54-5145-4a3a-bd0d-fc7417203d85"
      },
      "execution_count": null,
      "outputs": [
        {
          "output_type": "stream",
          "name": "stdout",
          "text": [
            "Insira a primeira nota   3\n",
            "Insira a segunda nota   3\n",
            "Insira a primeirterceira nota   3\n",
            "Insira a quarta nota   3\n",
            "3.0\n"
          ]
        }
      ]
    },
    {
      "cell_type": "code",
      "source": [
        "#005 - Faça um Programa que converta metros para centímetros.\n",
        "Medida = int(input('Insira a medida em metros   '))\n",
        "cm = (Medida*100)\n",
        "print(cm)"
      ],
      "metadata": {
        "colab": {
          "base_uri": "https://localhost:8080/"
        },
        "id": "UrJqMymCudio",
        "outputId": "bca57ded-67de-470a-a79a-b49de7de3d22"
      },
      "execution_count": null,
      "outputs": [
        {
          "output_type": "stream",
          "name": "stdout",
          "text": [
            "Insira a medida em metros   5\n",
            "500\n"
          ]
        }
      ]
    },
    {
      "cell_type": "code",
      "source": [
        "#006 - Faça um Programa que peça o raio de um círculo, calcule e mostre sua área.\n",
        "raio = int(input('Insira o raio do círculo  '))\n",
        "área = (3.1415*raio**2)\n",
        "print(área)"
      ],
      "metadata": {
        "colab": {
          "base_uri": "https://localhost:8080/"
        },
        "id": "lK7o6vNGu9q5",
        "outputId": "a3c59977-b232-4915-cb5f-80364249af0f"
      },
      "execution_count": null,
      "outputs": [
        {
          "output_type": "stream",
          "name": "stdout",
          "text": [
            "Insira o raio do círculo  6\n",
            "113.09400000000001\n"
          ]
        }
      ]
    },
    {
      "cell_type": "code",
      "source": [
        "#007 - Faça um Programa que calcule a área de um quadrado, em seguida mostre o dobro desta área para o usuário.\n",
        "lat = int(input('insira a medida do quadrado  '))\n",
        "área = lat*lat\n",
        "print(2*(área))\n"
      ],
      "metadata": {
        "colab": {
          "base_uri": "https://localhost:8080/"
        },
        "id": "hr5QTHVEwJpf",
        "outputId": "d12a7e51-5ef9-44a7-b64a-99517dd61cbe"
      },
      "execution_count": null,
      "outputs": [
        {
          "output_type": "stream",
          "name": "stdout",
          "text": [
            "insira a medida do quadrado  5\n",
            "50\n"
          ]
        }
      ]
    },
    {
      "cell_type": "code",
      "source": [
        "#008 - Faça um Programa que pergunte quanto você ganha por hora e o número de horas trabalhadas no mês. Calcule e mostre o total do seu salário no \n",
        "#referido mês.\n",
        "valor = int(input('Quanto você ganha por hora?  '))\n",
        "tempo = int(input('Quantas horas você trabalha por mês?  '))\n",
        "calc = valor*tempo\n",
        "print(calc)\n"
      ],
      "metadata": {
        "colab": {
          "base_uri": "https://localhost:8080/"
        },
        "id": "7PxTSGUVwywb",
        "outputId": "de88cec5-e6b6-464a-e761-94f837f144fe"
      },
      "execution_count": null,
      "outputs": [
        {
          "output_type": "stream",
          "name": "stdout",
          "text": [
            "Quanto você ganha por hora?  15\n",
            "Quantas horas você trabalha por mês?  40\n",
            "600\n"
          ]
        }
      ]
    },
    {
      "cell_type": "code",
      "source": [
        "#009 - Faça um Programa que peça a temperatura em graus Fahrenheit, transforme e mostre a temperatura em graus Celsius.\n",
        "F = int(input('Insira a temperatura em Fahrenheit   '))\n",
        "C = 5 * ((F-32) / 9)\n",
        "print(C)"
      ],
      "metadata": {
        "id": "g6EN3l1LyDui",
        "colab": {
          "base_uri": "https://localhost:8080/"
        },
        "outputId": "4b1533c6-0668-4b62-f6e7-eb7a081a7485"
      },
      "execution_count": null,
      "outputs": [
        {
          "output_type": "stream",
          "name": "stdout",
          "text": [
            "Insira a temperatura em Fahrenheit   38\n",
            "3.333333333333333\n"
          ]
        }
      ]
    },
    {
      "cell_type": "code",
      "source": [
        "#010 - Faça um Programa que peça a temperatura em graus Celsius, transforme e mostre em graus Fahrenheit.\n",
        "C = int(input('Insira a temperatura em Celsius  '))\n",
        "F = C * 9/5 + 32\n",
        "print(F)"
      ],
      "metadata": {
        "colab": {
          "base_uri": "https://localhost:8080/"
        },
        "id": "G2Xd8O0Qyz1g",
        "outputId": "fd8c1a99-7f60-44e0-a940-c83839fb0b29"
      },
      "execution_count": null,
      "outputs": [
        {
          "output_type": "stream",
          "name": "stdout",
          "text": [
            "Insira a temperatura em Celsius  3\n",
            "37.4\n"
          ]
        }
      ]
    },
    {
      "cell_type": "code",
      "source": [
        "#011 - Faça um Programa que peça 2 números inteiros e um número real. Calcule e mostre:\n",
        "# o produto do dobro do primeiro com metade do segundo .\n",
        "# a soma do triplo do primeiro com o terceiro.\n",
        "# o terceiro elevado ao cubo.\n",
        "\n",
        "a = int(input('Insira um número inteiro   '))\n",
        "b = int(input('Insira um número inteiro   '))\n",
        "c = int(input('Insira um número real   '))\n",
        "\n",
        "soma1 = a*2 + b/2\n",
        "print(soma1)\n",
        "\n",
        "soma2 = 3*a + c\n",
        "print(soma2)\n",
        "\n",
        "soma3 = c**3\n",
        "print(soma3)"
      ],
      "metadata": {
        "colab": {
          "base_uri": "https://localhost:8080/"
        },
        "id": "pyieL2fiziMh",
        "outputId": "eb5d3c37-6733-4e89-cca1-37167cbed08e"
      },
      "execution_count": null,
      "outputs": [
        {
          "output_type": "stream",
          "name": "stdout",
          "text": [
            "Insira um número inteiro   3\n",
            "Insira um número inteiro   3\n",
            "Insira um número real   3\n",
            "7.5\n",
            "12\n",
            "27\n"
          ]
        }
      ]
    },
    {
      "cell_type": "code",
      "source": [
        "#012 - Tendo como dados de entrada a altura de uma pessoa, construa um algoritmo que calcule seu peso ideal, \n",
        "#usando a seguinte fórmula: \n",
        "altura = float(input('Insira sua altura aqui   '))\n",
        "calculo = (72.7*altura) - 58\n",
        "print(calculo)"
      ],
      "metadata": {
        "colab": {
          "base_uri": "https://localhost:8080/"
        },
        "id": "hK25BGp-1iMq",
        "outputId": "4971bd7f-47da-43f6-b51d-54fbb96d504c"
      },
      "execution_count": null,
      "outputs": [
        {
          "output_type": "stream",
          "name": "stdout",
          "text": [
            "Insira sua altura aqui   1.56\n",
            "55.412000000000006\n"
          ]
        }
      ]
    },
    {
      "cell_type": "code",
      "source": [
        "#013 - Tendo como dado de entrada a altura (h) de uma pessoa, construa um algoritmo que calcule seu peso ideal, utilizando as seguintes fórmulas:\n",
        "#Para homens: (72.7*h) - 58\n",
        "#Para mulheres: (62.1*h) - 44.7\n",
        "s = input('Você é homem(H) ou mulher(M)?   ')\n",
        "h = float(input('Sua altura   '))\n",
        "if s == 'H':\n",
        "  print('Seu peso ideal é:', (72.7*h) - 58)\n",
        "elif s == 'M':\n",
        "  print('Seu peso ideal é', (62.1*h) - 44.7)\n",
        "else:\n",
        "  print('Opção inválida')"
      ],
      "metadata": {
        "colab": {
          "base_uri": "https://localhost:8080/"
        },
        "id": "hcyfOLvc3j90",
        "outputId": "7262463c-9d08-44d2-c6b4-2586f6da29e2"
      },
      "execution_count": null,
      "outputs": [
        {
          "output_type": "stream",
          "name": "stdout",
          "text": [
            "Você é homem(H) ou mulher(M)?   x\n",
            "Sua altura   1.57\n",
            "Opção inválida\n"
          ]
        }
      ]
    },
    {
      "cell_type": "code",
      "source": [
        "#014 - João Papo-de-Pescador, homem de bem, comprou um microcomputador para controlar o rendimento diário de seu trabalho. \n",
        "#Toda vez que ele traz um peso de peixes maior que o estabelecido pelo regulamento de pesca do estado de São Paulo (50 quilos) \n",
        "#deve pagar uma multa de R$ 4,00 por quilo excedente. \n",
        "#João precisa que você faça um programa que leia a variável peso (peso de peixes) e calcule o excesso. \n",
        "#Gravar na variável excesso a quantidade de quilos além do limite e na variável multa o valor da multa que João deverá pagar. \n",
        "#Imprima os dados do programa com as mensagens adequadas.\n",
        "\n",
        "peso = float(input('Insira o peso dos peixes:  '))\n",
        "excesso = peso - 50\n",
        "multa = excesso*4\n",
        "if peso < 50:\n",
        "  print('Não há excesso de peso, então não há multa a ser paga')\n",
        "elif peso >= 50:\n",
        "  print('O peso excedente é de', excesso, 'kg', 'e valor a pagar é de R$', multa)\n"
      ],
      "metadata": {
        "colab": {
          "base_uri": "https://localhost:8080/"
        },
        "id": "uo08tN4t_cJ7",
        "outputId": "80ae0590-a453-4940-e53b-e917a7003b1c"
      },
      "execution_count": null,
      "outputs": [
        {
          "output_type": "stream",
          "name": "stdout",
          "text": [
            "Insira o peso dos peixes:  70\n",
            "O peso excedente é de 20.0 kg e valor a pagar é de R$ 80.0\n"
          ]
        }
      ]
    },
    {
      "cell_type": "code",
      "source": [
        "#015 - Faça um Programa que pergunte quanto você ganha por hora e o número de horas trabalhadas no mês. \n",
        "#Calcule e mostre o total do seu salário no referido mês, sabendo-se que são descontados 11% para o Imposto de Renda, 8% para o INSS e 5% para o sindicato, \n",
        "#faça um programa que nos dê:\n",
        "#salário bruto.\n",
        "#quanto pagou ao INSS.\n",
        "#quanto pagou ao sindicato.\n",
        "#o salário líquido.\n",
        "#calcule os descontos e o salário líquido, conforme a tabela abaixo:\n",
        "#+ Salário Bruto : R$\n",
        "#- IR (11%) : R$\n",
        "#- INSS (8%) : R$\n",
        "#- Sindicato ( 5%) : R$\n",
        "#= Salário Liquido : R$\n",
        "#Obs.: Salário Bruto - Descontos = Salário Líquido.\n",
        "\n",
        "#criar input das variáveis\n",
        "valor = float(input('Quanto você ganha por hora?   '))\n",
        "horas = float(input('Quantas horas você trabalha por mês?   '))\n",
        "#calcular salário bruto\n",
        "salario = valor * horas\n",
        "print('O seu salário bruto é de R$:', salario)\n",
        "#calcular porcentagem dos descontos\n",
        "desconto = 11 / 100\n",
        "ir = desconto * salario\n",
        "print('O seu desconto de IR é de R$', ir)\n",
        "\n",
        "desconto1 = 8 / 100\n",
        "inss = desconto1 * salario\n",
        "print('O seu desconto do INSS é de R$', inss)\n",
        "\n",
        "desconto2 = 5 / 100\n",
        "sind = desconto2 * salario\n",
        "print('O seu desconto do sindicato é de R$', sind)\n",
        "#salário liquído é o bruto menos o total de descontos\n",
        "sal_liq = salario - ir - inss - sind\n",
        "print('O seu salário líquido é de R$', sal_liq)\n"
      ],
      "metadata": {
        "colab": {
          "base_uri": "https://localhost:8080/"
        },
        "id": "8TW5eqD6IOew",
        "outputId": "eebaf783-ab0b-4008-bea8-e09d0140dee5"
      },
      "execution_count": null,
      "outputs": [
        {
          "output_type": "stream",
          "name": "stdout",
          "text": [
            "Quanto você ganha por hora?   15.25\n",
            "Quantas horas você trabalha por mês?   120\n",
            "O seu salário bruto é de R$: 1830.0\n",
            "O seu desconto de IR é de R$ 201.3\n",
            "O seu desconto do INSS é de R$ 146.4\n",
            "O seu desconto do sindicato é de R$ 91.5\n",
            "O seu salário líquido é de R$ 1390.8\n"
          ]
        }
      ]
    },
    {
      "cell_type": "code",
      "source": [
        "#016 - Faça um programa para uma loja de tintas. O programa deverá pedir o tamanho em metros quadrados da área a ser pintada. \n",
        "#Considere que a cobertura da tinta é de 1 litro para cada 3 metros quadrados e que a tinta é vendida em latas de 18 litros, que custam R$ 80,00. \n",
        "#Informe ao usuário a quantidades de latas de tinta a serem compradas e o preço total.\n",
        "\n",
        "import math\n",
        "tam = int(input('Qual o tamanho da área em m² a ser pintada?  '))\n",
        "litros = tam / 3\n",
        "lata = 18 * 3\n",
        "print('Cada lata pinta', lata, 'm²')\n",
        "qtdelatas = math.ceil(tam / lata)\n",
        "print('A quantidade de latas necessárias é de:', qtdelatas)\n",
        "valor = qtdelatas * 80\n",
        "print('O valor a ser pago pelas latas é de R$', valor)\n",
        "\n"
      ],
      "metadata": {
        "colab": {
          "base_uri": "https://localhost:8080/"
        },
        "id": "f4UYSm0vuw8Q",
        "outputId": "a84d079c-12c0-4d96-cc28-abe1962f7159"
      },
      "execution_count": null,
      "outputs": [
        {
          "output_type": "stream",
          "name": "stdout",
          "text": [
            "Qual o tamanho da área em m² a ser pintada?  90\n",
            "Cada lata pinta 54 m²\n",
            "A quantidade de latas necessárias é de: 2\n",
            "O valor a ser pago pelas latas é de R$ 160\n"
          ]
        }
      ]
    },
    {
      "cell_type": "code",
      "source": [
        "#017 - Faça um Programa para uma loja de tintas. O programa deverá pedir o tamanho em metros quadrados da área a ser pintada. \n",
        "#Considere que a cobertura da tinta é de 1 litro para cada 6 metros quadrados e que a tinta é vendida em latas de 18 litros, que custam R$ 80,00 \n",
        "#ou em galões de 3,6 litros, que custam R$ 25,00.\n",
        "#Informe ao usuário as quantidades de tinta a serem compradas e os respectivos preços em 3 situações:\n",
        "#comprar apenas latas de 18 litros;\n",
        "#comprar apenas galões de 3,6 litros;\n",
        "#misturar latas e galões, de forma que o desperdício de tinta seja menor. \n",
        "#Acrescente 10% de folga e sempre arredonde os valores para cima, isto é, considere latas cheias.\n",
        "\n",
        "m2litro = 6\n",
        "litroslata = 18\n",
        "lata18 = 80\n",
        "litrosgalao = 3.6\n",
        "galao3 = 25\n",
        "folga = 0.1\n",
        "\n",
        "area = int(input('Area em m² a ser pintada:  '))\n",
        "consumo = math.ceil(area / m2litro * folga)\n",
        "print('Quantidade de litros de tinta necessária:', consumo)\n",
        "escolha = input('Escolha entre latas de 18 litros(L), galão de 3,6 litro(G) ou mista(M):')\n",
        "\n",
        "#Se for usar apenas latas de 18 litros:\n",
        "if escolha == 'L':\n",
        "  qtdelatas18 = math.ceil(consumo / litroslata)\n",
        "  print('Quantidade de latas de 18 litros:', qtdelatas18)\n",
        "\n",
        "  valor18 = math.ceil(qtdelatas18 * lata18)\n",
        "  print('Valor a pagar: R$', valor18)\n",
        "\n",
        "#Se for usar apenas latas de 3,6 litros:\n",
        "elif escolha == 'G':\n",
        "  qtdegalao = math.ceil(consumo / litrosgalao)\n",
        "  print('Quantidade de latas de 3,6 litros:', qtdegalao)\n",
        "\n",
        "  valor3 = math.ceil(qtdegalao * galao3)\n",
        "  print('Valor a pagar: R$', valor3)\n",
        "\n",
        "#Calcular qual combinção de latas e galões vai ter menos desperdício de tinta\n",
        "elif escolha == 'M':\n",
        "  qtdemistal = consumo // litroslata\n",
        "  qtdemistag = math.ceil((consumo - qtdemistal * litroslata) / litrosgalao)\n",
        "  print('A quantidade de galoes de 3,6l é:', qtdemistag)\n",
        "  print('A quantidade de latas de 18l é:', qtdemistal)\n",
        "  #print(qtdemistag + qtdemistal)\n",
        "  valormistog = qtdemistag * galao3\n",
        "  valormistol = qtdemistal * lata18\n",
        "  print('O vaor  ser pago é de R$', valormistog + valormistol)\n",
        "\n",
        "else: \n",
        "  print('Opção Inválida')\n",
        "  "
      ],
      "metadata": {
        "colab": {
          "base_uri": "https://localhost:8080/"
        },
        "id": "u3u_GBktJtgs",
        "outputId": "45b10b3c-0852-40ee-b178-79c7c3fbcfad"
      },
      "execution_count": null,
      "outputs": [
        {
          "output_type": "stream",
          "name": "stdout",
          "text": [
            "Area em m² a ser pintada:  54000\n",
            "Quantidade de litros de tinta necessária: 900\n",
            "Escolha entre latas de 18 litros(L), galão de 3,6 litro(G) ou mista(M):M\n",
            "A quantidade de galoes de 3,6l é: 0\n",
            "A quantidade de latas de 18l é: 50\n",
            "O vaor  ser pago é de R$ 4000\n"
          ]
        }
      ]
    },
    {
      "cell_type": "code",
      "source": [
        "#018 - Faça um programa que peça o tamanho de um arquivo para download (em MB) e a velocidade de um link de Internet (em Mbps), \n",
        "#calcule e informe o tempo aproximado de download do arquivo usando este link (em minutos).\n",
        "\n",
        "tam = float(input('Qual o tamanho do arquivo em MB?  '))\n",
        "vel = float(input('Qual a velocidade da Internet em Mbps?  '))\n",
        "\n",
        "tempo = 60 / (tam / vel) \n",
        "print('O seu download será feito em: ', tempo, 'minutos')"
      ],
      "metadata": {
        "colab": {
          "base_uri": "https://localhost:8080/"
        },
        "id": "Ap5mJm51kMsV",
        "outputId": "5ebae9b6-8dc2-4e64-c1fd-ded687ef3362"
      },
      "execution_count": null,
      "outputs": [
        {
          "output_type": "stream",
          "name": "stdout",
          "text": [
            "Qual o tamanho do arquivo em MB?  600\n",
            "Qual a velocidade da Internet em Mbps?  10\n",
            "O seu download será feito em:  1.0 minutos\n"
          ]
        }
      ]
    }
  ]
}