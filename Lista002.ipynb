{
  "nbformat": 4,
  "nbformat_minor": 0,
  "metadata": {
    "colab": {
      "name": "Lista002.ipynb",
      "provenance": [],
      "collapsed_sections": [],
      "authorship_tag": "ABX9TyODZP8XyKG33kENFU3ZRgpz",
      "include_colab_link": true
    },
    "kernelspec": {
      "name": "python3",
      "display_name": "Python 3"
    },
    "language_info": {
      "name": "python"
    }
  },
  "cells": [
    {
      "cell_type": "markdown",
      "metadata": {
        "id": "view-in-github",
        "colab_type": "text"
      },
      "source": [
        "<a href=\"https://colab.research.google.com/github/pboyano/Ex_Python/blob/main/Lista002.ipynb\" target=\"_parent\"><img src=\"https://colab.research.google.com/assets/colab-badge.svg\" alt=\"Open In Colab\"/></a>"
      ]
    },
    {
      "cell_type": "markdown",
      "source": [
        "#Lista de Exercícios PythonBrasil - 002 - Estrutura de Decisão\n",
        "#Site: https://wiki.python.org.br/EstruturaDeDecisao"
      ],
      "metadata": {
        "id": "R1AjT7_ZXEkC"
      }
    },
    {
      "cell_type": "code",
      "source": [
        "#001 - Faça um Programa que peça dois números e imprima o maior deles.\n",
        "\n",
        "a = input('Digite um número:  ')\n",
        "b = input('Digite outro número:  ')\n",
        "\n",
        "if a > b:\n",
        "  print(a)\n",
        "if a < b:\n",
        "  print(b)\n",
        "else:\n",
        "  print('Os números são iguais')"
      ],
      "metadata": {
        "colab": {
          "base_uri": "https://localhost:8080/"
        },
        "id": "oacmL0Hr9-KQ",
        "outputId": "e9e6e685-7acb-49dc-e4bc-dcce37ac24e7"
      },
      "execution_count": 12,
      "outputs": [
        {
          "output_type": "stream",
          "name": "stdout",
          "text": [
            "Digite um número:  2\n",
            "Digite outro número:  3\n",
            "3\n"
          ]
        }
      ]
    },
    {
      "cell_type": "code",
      "source": [
        "#002 - Faça um Programa que peça um valor e mostre na tela se o valor é positivo ou negativo.\n",
        "\n",
        "n = int(input('Digite um número:  '))\n",
        "\n",
        "if n > 0:\n",
        "  print('POSITIVO')\n",
        "else:\n",
        "  print('NEGATIVO')"
      ],
      "metadata": {
        "colab": {
          "base_uri": "https://localhost:8080/"
        },
        "id": "YY1G8ztdCVhI",
        "outputId": "5b07df58-22d3-46aa-efbc-53c0d77dd534"
      },
      "execution_count": 14,
      "outputs": [
        {
          "output_type": "stream",
          "name": "stdout",
          "text": [
            "Digite um número:  5\n",
            "POSITIVO\n"
          ]
        }
      ]
    },
    {
      "cell_type": "code",
      "source": [
        "#003 - Faça um Programa que verifique se uma letra digitada é \"F\" ou \"M\". Conforme a letra escrever: F - Feminino, M - Masculino, Sexo Inválido.\n",
        "\n",
        "S = input('Sexo M ou F?  ')\n",
        "\n",
        "if S == 'M':\n",
        "  print('Masculino')\n",
        "elif S == 'F':\n",
        "  print('Feminino')\n",
        "else:\n",
        "  print('Sexo inválido')\n"
      ],
      "metadata": {
        "colab": {
          "base_uri": "https://localhost:8080/"
        },
        "id": "GTN7xn4TDtYa",
        "outputId": "bf5436a8-71c0-40de-f422-f27d5fced1da"
      },
      "execution_count": 18,
      "outputs": [
        {
          "output_type": "stream",
          "name": "stdout",
          "text": [
            "Sexo M ou F?  G\n",
            "Sexo inválido\n"
          ]
        }
      ]
    },
    {
      "cell_type": "code",
      "source": [
        "#004 - Faça um Programa que verifique se uma letra digitada é vogal ou consoante.\n",
        "\n",
        "l = input('Digite uma letra:   ')\n",
        "vogais = 'aeiouAEIOU'\n",
        "\n",
        "if l in vogais:\n",
        "  print('Vogal')\n",
        "else:\n",
        "  print('Consoante')\n"
      ],
      "metadata": {
        "colab": {
          "base_uri": "https://localhost:8080/"
        },
        "id": "tNDjJiFdUfs3",
        "outputId": "78cfb5c9-ccf3-4257-d4f7-2116de199f8d"
      },
      "execution_count": 24,
      "outputs": [
        {
          "output_type": "stream",
          "name": "stdout",
          "text": [
            "Digite uma letra:   A\n",
            "Vogal\n"
          ]
        }
      ]
    },
    {
      "cell_type": "code",
      "source": [
        "#005 - Faça um programa para a leitura de duas notas parciais de um aluno. O programa deve calcular a média alcançada por aluno e apresentar:\n",
        "#A mensagem \"Aprovado\", se a média alcançada for maior ou igual a sete;\n",
        "#A mensagem \"Reprovado\", se a média for menor do que sete;\n",
        "#A mensagem \"Aprovado com Distinção\", se a média for igual a dez\n",
        "\n",
        "nota1 = float(input('Insira a primeira nota:  '))\n",
        "nota2 = float(input('Insira a segunda nota:  '))\n",
        "media = (nota1 + nota2) / 2\n",
        "print(media)\n",
        "\n",
        "if media >= 0:\n",
        "  if media < 7:\n",
        "    print('REPROVADO') \n",
        "  if media == 10:\n",
        "    print('APROVADO COM DISTINÇÃO')\n",
        "  if media < 10:\n",
        "    if media >= 7:\n",
        "      print('APROVADO')\n",
        "else:\n",
        "  print('NOTA INVÁLIDA')"
      ],
      "metadata": {
        "colab": {
          "base_uri": "https://localhost:8080/"
        },
        "id": "e0OGKmZklXJk",
        "outputId": "dd26b919-cad5-4703-ebec-0d7d761df25c"
      },
      "execution_count": 64,
      "outputs": [
        {
          "output_type": "stream",
          "name": "stdout",
          "text": [
            "Insira a primeira nota:  8\n",
            "Insira a segunda nota:  6\n",
            "7.0\n",
            "APROVADO\n"
          ]
        }
      ]
    },
    {
      "cell_type": "code",
      "source": [
        "#005 - Resposta alternativa\n",
        "\n",
        "nota1 = float(input('Insira a primeira nota:  '))\n",
        "nota2 = float(input('Inisra a segunda nota:  '))\n",
        "media = (nota1 + nota2) / 2\n",
        "print(media)\n",
        "\n",
        "if media >= 7:\n",
        "  if media == 10:\n",
        "    print('APROVADO COM DISTINÇÃO')\n",
        "  else:\n",
        "    print('APROVADO')\n",
        "else:\n",
        "  print('REPROVADO')"
      ],
      "metadata": {
        "colab": {
          "base_uri": "https://localhost:8080/"
        },
        "id": "vVkNZsyyvd0l",
        "outputId": "20f26434-1d3c-406f-a128-938763157287"
      },
      "execution_count": null,
      "outputs": [
        {
          "output_type": "stream",
          "name": "stdout",
          "text": [
            "Insira a primeira nota:  10\n",
            "Inisra a segunda nota:  10\n",
            "10.0\n",
            "APROVADO COM DISTINÇÃO\n"
          ]
        }
      ]
    },
    {
      "cell_type": "code",
      "source": [
        "#006 - Faça um Programa que leia três números e mostre o maior deles.\n",
        "\n",
        "a = float(input('Digite um número:  '))\n",
        "b = float(input('Digite outro número:  '))\n",
        "c = float(input('Digite mais um numero:  '))\n",
        " \n",
        "if a >= b and a >= c:\n",
        "  print(a)\n",
        "elif b >= a and b >= c:\n",
        "  print(b)\n",
        "elif c >= a and c >= b:\n",
        "  print(c)"
      ],
      "metadata": {
        "colab": {
          "base_uri": "https://localhost:8080/"
        },
        "id": "Ga2w--w3nKoN",
        "outputId": "65314936-b970-4109-9331-567637eac443"
      },
      "execution_count": 66,
      "outputs": [
        {
          "output_type": "stream",
          "name": "stdout",
          "text": [
            "Digite um número:  9\n",
            "Digite outro número:  8\n",
            "Digite mais um numero:  5\n",
            "9.0\n"
          ]
        }
      ]
    },
    {
      "cell_type": "code",
      "source": [
        "#007 - Faça um Programa que leia três números e mostre o maior e o menor deles.\n",
        "\n",
        "a = float(input('Digite um número:  '))\n",
        "b = float(input('Digite outro número:  '))\n",
        "c = float(input('Digite mais um numero:  '))\n",
        " \n",
        "if a <= b and b <= c:\n",
        "  print('Menor:', a,' Maior:',c)\n",
        "elif b <= c and c <= a:\n",
        "  print('Menor:', b,' Maior:',a)\n",
        "elif c <= b and b <= a:\n",
        "  print('Menor:', c,' Maior:',a)\n",
        "elif a <= c and c <= b:\n",
        "  print('Menor:', a,' Maior:',b)\n",
        "elif b <= a and a <= c:\n",
        "  print('Menor:', b,' Maior:',c)\n",
        "elif c <= a and a <= b:\n",
        "  print('Menor:', c,' Maior:',b)"
      ],
      "metadata": {
        "colab": {
          "base_uri": "https://localhost:8080/"
        },
        "id": "WTOtuH2VB8ML",
        "outputId": "8957ea8c-c93b-4d87-95fe-28a529c44005"
      },
      "execution_count": 96,
      "outputs": [
        {
          "output_type": "stream",
          "name": "stdout",
          "text": [
            "Digite um número:  7\n",
            "Digite outro número:  7\n",
            "Digite mais um numero:  8\n",
            "Menor: 7.0  Maior: 8.0\n"
          ]
        }
      ]
    },
    {
      "cell_type": "code",
      "source": [
        "#008 - Faça um programa que pergunte o preço de três produtos e informe qual produto você deve comprar, sabendo que a decisão é sempre pelo mais barato.\n",
        "\n",
        "a = float(input('Digite o preço do produto 1:  '))\n",
        "b = float(input('Digite o preço do produto 2:  '))\n",
        "c = float(input('Digite o preço do produto 3:  '))\n",
        " \n",
        "if a < b and a < c:\n",
        "  print('O preço mais baixo é do produto 1 - R$',a)\n",
        "elif b < a and b < c:\n",
        "  print('O preço mais baixo é do produto 2 - R$',b)\n",
        "elif c < a and c < b:\n",
        "  print('O preço mais baixo é do produto 3 - R$',c)\n",
        "elif a == b < c:\n",
        "  print('Os preços baixos são dos produtos 1 e 2 - R$',a)\n",
        "elif a == c < b:\n",
        "  print('Os preços baixos são dos produtos 1 e 3 - R$',a)\n",
        "elif b == c < a:\n",
        "  print('Os preços baixos são dos produtos 2 e 3 - R$',b)\n",
        "else:\n",
        "  print('Produtos com preços iguais - R$',a)"
      ],
      "metadata": {
        "colab": {
          "base_uri": "https://localhost:8080/"
        },
        "id": "w3MRXfDIErF0",
        "outputId": "2305a757-2cf5-4295-dd2e-bb3655d13869"
      },
      "execution_count": 110,
      "outputs": [
        {
          "output_type": "stream",
          "name": "stdout",
          "text": [
            "Digite o preço do produto 1:  1\n",
            "Digite o preço do produto 2:  2\n",
            "Digite o preço do produto 3:  1\n",
            "Os preços baixos são dos produtos 1 e 3 - R$ 1.0\n"
          ]
        }
      ]
    },
    {
      "cell_type": "code",
      "source": [
        "#009 - Faça um Programa que leia três números e mostre-os em ordem decrescente.\n",
        "\n",
        "a = int(input('Digite um número: '))\n",
        "b = int(input('Digite um número: '))\n",
        "c = int(input('Digite um número: '))\n",
        "\n",
        "if a >= b >= c:\n",
        "  print(a, b, c)\n",
        "elif b >= c >= a:\n",
        "  print(b, c, a)\n",
        "elif c >= b >= a:\n",
        "  print(c, b, a)\n",
        "elif a >= c >= b:\n",
        "  print(a, c, b)\n",
        "elif b >= a >= c:\n",
        "  print(b, a, c)\n",
        "elif c >= a >= b:\n",
        "  print(c, a, b)"
      ],
      "metadata": {
        "id": "oZEIUCPdKQ55",
        "colab": {
          "base_uri": "https://localhost:8080/"
        },
        "outputId": "154f4c77-2119-47ca-9644-61d9a101f4e7"
      },
      "execution_count": 114,
      "outputs": [
        {
          "output_type": "stream",
          "name": "stdout",
          "text": [
            "Digite um número: 1\n",
            "Digite um número: 1\n",
            "Digite um número: 1\n",
            "1 1 1\n"
          ]
        }
      ]
    },
    {
      "cell_type": "code",
      "source": [
        "#010 - Faça um Programa que pergunte em que turno você estuda. Peça para digitar M-matutino ou V-Vespertino ou N- Noturno. \n",
        "#Imprima a mensagem \"Bom Dia!\", \"Boa Tarde!\" ou \"Boa Noite!\" ou \"Valor Inválido!\", conforme o caso.\n",
        "\n",
        "turno = input('Digite seu turno: Matutino(M), Vestepertino(V) ou Noturno(N): '  )\n",
        "\n",
        "if turno == 'M':\n",
        "  print('Bom dia!')\n",
        "elif turno == 'V':\n",
        "  print('Boa tarde!')\n",
        "elif turno == 'N':\n",
        "  print('Boa noite!')\n",
        "else:\n",
        "  print('Valor Inválido')"
      ],
      "metadata": {
        "colab": {
          "base_uri": "https://localhost:8080/"
        },
        "id": "bqIwbKMMrbs3",
        "outputId": "55e5f593-c910-47f7-f99b-d39f833c87f8"
      },
      "execution_count": 117,
      "outputs": [
        {
          "output_type": "stream",
          "name": "stdout",
          "text": [
            "Digite seu turno: Matutino(M), Vestepertino(V) ou Noturno(N): G\n",
            "Valor Inválido\n"
          ]
        }
      ]
    },
    {
      "cell_type": "code",
      "source": [
        "#011 - As Organizações Tabajara resolveram dar um aumento de salário aos seus colaboradores e lhe contraram para desenvolver o programa que \n",
        "#calculará os reajustes.\n",
        "#Faça um programa que recebe o salário de um colaborador e o reajuste segundo o seguinte critério, baseado no salário atual:\n",
        "#salários até R$ 280,00 (incluindo) : aumento de 20%\n",
        "#salários entre R$ 280,00 e R$ 700,00 : aumento de 15%\n",
        "#salários entre R$ 700,00 e R$ 1500,00 : aumento de 10%\n",
        "#salários de R$ 1500,00 em diante : aumento de 5% \n",
        "#Após o aumento ser realizado, informe na tela:\n",
        "#o salário antes do reajuste;\n",
        "#o percentual de aumento aplicado;\n",
        "#o valor do aumento;\n",
        "#o novo salário, após o aumento.\n",
        "\n",
        "sal = float(input('Inisira o valor do seu salário R$ '   ))\n",
        "print('O valor do seu salário sem reajuste é R$', sal)\n",
        "\n",
        "if sal <= 280:\n",
        "  print('O seu reajuste é de 20%.', 'O valor do aumento é R$',(sal*1.20) - sal, 'e o seu novo salário ficará R$', sal*1.20)  \n",
        "if sal >= 281:  \n",
        "  if sal <= 700:\n",
        "    print('O seu reajuste é de 15%.', 'O valor do aumento é R$',(sal*1.15) - sal, 'e o seu novo salário ficará R$', sal*1.15)\n",
        "if sal >= 701:\n",
        "  if sal <= 1500:\n",
        "    print('O seu reajuste é de 10%.', 'O valor do aumento é R$',(sal*1.10) - sal, 'e o seu novo salário ficará R$', sal*1.10)\n",
        "if sal >= 1501:\n",
        "   print('O seu reajuste é de 5%.', 'O valor do aumento é R$',(sal*1.05) - sal,'e o seu novo salário ficará R$', sal*1.05)"
      ],
      "metadata": {
        "colab": {
          "base_uri": "https://localhost:8080/"
        },
        "id": "JLCwvWc9tC2F",
        "outputId": "f61c6623-9d89-4fd8-92ba-47113447f113"
      },
      "execution_count": 138,
      "outputs": [
        {
          "output_type": "stream",
          "name": "stdout",
          "text": [
            "Inisira o valor do seu salário R$ 1500\n",
            "O valor do seu salário sem reajuste é R$ 1500.0\n",
            "O seu reajuste é de 10%. O valor do aumento é R$ 150.00000000000023 e o seu novo salário ficará R$ 1650.0000000000002\n"
          ]
        }
      ]
    },
    {
      "cell_type": "code",
      "source": [
        "#012 - Faça um programa para o cálculo de uma folha de pagamento, sabendo que os descontos são do Imposto de Renda, \n",
        "#que depende do salário bruto (conforme tabela abaixo) e 3% para o Sindicato e que o FGTS corresponde a 11% do Salário Bruto, \n",
        "#mas não é descontado (é a empresa que deposita). O Salário Líquido corresponde ao Salário Bruto menos os descontos. \n",
        "#O programa deverá pedir ao usuário o valor da sua hora e a quantidade de horas trabalhadas no mês.\n",
        "#Desconto do IR:\n",
        "#Salário Bruto até 900 (inclusive) - isento\n",
        "#Salário Bruto até 1500 (inclusive) - desconto de 5%\n",
        "#Salário Bruto até 2500 (inclusive) - desconto de 10%\n",
        "#Salário Bruto acima de 2500 - desconto de 20% \n",
        "#Imprima na tela as informações, dispostas conforme o exemplo abaixo. \n",
        "#No exemplo o valor da hora é 5 e a quantidade de hora é 220.\n",
        "        #Salário Bruto: (5 * 220)        : R$ 1100,00\n",
        "        #(-) IR (5%)                     : R$   55,00  \n",
        "        #(-) INSS ( 10%)                 : R$  110,00\n",
        "        #FGTS (11%)                      : R$  121,00\n",
        "        #Total de descontos              : R$  165,00\n",
        "        #Salário Liquido                 : R$  935,00\n",
        "\n",
        "valor = float(input('Qual valor da sua hora trabalhada R$ '))\n",
        "hora = float(input('Quanta horas você trabalha no mês?  '))\n",
        "\n",
        "salbruto = valor * hora\n",
        "\n",
        "ir5 = salbruto * (5/100)\n",
        "ir10 = salbruto * (10/100)\n",
        "ir20 = salbruto * (20/100)\n",
        "\n",
        "inss = salbruto * (10/100) \n",
        "fgts = salbruto * (11/100)\n",
        "\n",
        "\n",
        "if salbruto <= 900:\n",
        "    print('Salário Bruto (V * H)            : R$ ', salbruto) \n",
        "    print('(-) IR (ISENTO)                  : R$  0,00')\n",
        "    print('(-) INSS (10%)                   : R$ ', inss)\n",
        "    print('FGTS (11%)                       : R$ ', fgts)\n",
        "    print('Total de descontos               : R$ ', inss)\n",
        "    print('Salário líquido                  : R$ ', salbruto - inss)\n",
        "if salbruto >= 901:\n",
        "  if salbruto <= 1500:\n",
        "    print('Salário Bruto (V * H):           : R$ ', salbruto) \n",
        "    print('(-) IR                           : R$ ', ir5)\n",
        "    print('(-) INSS (10%)                   : R$ ', inss)\n",
        "    print('FGTS (11%)                       : R$ ', fgts)\n",
        "    print('Total de descontos               : R$ ', inss + ir5)\n",
        "    print('Salário líquido                  : R$ ', salbruto - inss - ir5)    \n",
        "if salbruto >= 1501:\n",
        "  if salbruto <= 2500:\n",
        "    print('Salário Bruto (V * H):           : R$ ', salbruto) \n",
        "    print('(-) IR                           : R$ ', ir10)\n",
        "    print('(-) INSS (10%)                   : R$ ', inss)\n",
        "    print('FGTS (11%)                       : R$ ', fgts)\n",
        "    print('Total de descontos               : R$ ', inss + ir10)\n",
        "    print('Salário líquido                  : R$ ', salbruto - inss - ir10)\n",
        "if salbruto >= 2501:\n",
        "    print('Salário Bruto (V * H):           : R$ ', salbruto) \n",
        "    print('(-) IR                           : R$ ', ir20)\n",
        "    print('(-) INSS (10%)                   : R$ ', inss)\n",
        "    print('FGTS (11%)                       : R$ ', fgts)\n",
        "    print('Total de descontos               : R$ ', inss + ir20)\n",
        "    print('Salário líquido                  : R$ ', salbruto - inss - ir20) \n"
      ],
      "metadata": {
        "colab": {
          "base_uri": "https://localhost:8080/"
        },
        "id": "JLbmiEvA4s87",
        "outputId": "95e6ca5a-f23a-4e19-bb44-1d1d65563a64"
      },
      "execution_count": 139,
      "outputs": [
        {
          "output_type": "stream",
          "name": "stdout",
          "text": [
            "Qual valor da sua hora trabalhada R$ 100\n",
            "Quanta horas você trabalha no mês?  20\n",
            "Salário Bruto (V * H):           : R$  2000.0\n",
            "(-) IR                           : R$  200.0\n",
            "(-) INSS (10%)                   : R$  200.0\n",
            "FGTS (11%)                       : R$  220.0\n",
            "Total de descontos               : R$  400.0\n",
            "Salário líquido                  : R$  1600.0\n"
          ]
        }
      ]
    },
    {
      "cell_type": "code",
      "source": [
        "#013 - Faça um Programa que leia um número e exiba o dia correspondente da semana. (1-Domingo, 2- Segunda, etc.), \n",
        "#se digitar outro valor deve aparecer valor inválido.\n",
        "\n",
        "dia = input('Digite um número de 1 a 7:  ')\n",
        "\n",
        "if dia == '1':\n",
        "  print('domingo')\n",
        "elif dia == '2':\n",
        "  print('segunda')\n",
        "elif dia == '3':\n",
        "  print('terça')\n",
        "elif dia == '4':\n",
        "  print('quarta')\n",
        "elif dia == '5':\n",
        "  print('quinta')\n",
        "elif dia == '6':\n",
        "  print('sexta')\n",
        "elif dia == '7':\n",
        "  print('sábado')\n",
        "else:\n",
        "  print('Valor inválido')"
      ],
      "metadata": {
        "colab": {
          "base_uri": "https://localhost:8080/"
        },
        "id": "y6EVs9W272bS",
        "outputId": "0b6c7822-dfb9-410d-d11b-bf619fc8a3ce"
      },
      "execution_count": null,
      "outputs": [
        {
          "output_type": "stream",
          "name": "stdout",
          "text": [
            "Digite um número de 1 a 7:  5\n",
            "quinta\n"
          ]
        }
      ]
    },
    {
      "cell_type": "code",
      "source": [
        "#014 - Faça um programa que lê as duas notas parciais obtidas por um aluno numa disciplina ao longo de um semestre, e calcule a sua média. \n",
        "#A atribuição de conceitos obedece à tabela abaixo:\n",
        "#Média de Aproveitamento  Conceito\n",
        "#  Entre 9.0 e 10.0        A\n",
        "#  Entre 7.5 e 9.0         B\n",
        "#  Entre 6.0 e 7.5         C\n",
        "#  Entre 4.0 e 6.0         D\n",
        "#  Entre 4.0 e zero        E\n",
        "#O algoritmo deve mostrar na tela as notas, a média, o conceito correspondente e a mensagem “APROVADO” se o conceito for A, B ou C ou “REPROVADO” \n",
        "#se o conceito for D ou E.\n",
        "\n",
        "nota1 = float(input('Insira a sua nota 1:  '))\n",
        "nota2 = float(input('Insira a sua nota 2:  '))\n",
        "media = (nota1 + nota2)/2\n",
        "\n",
        "if media <= 10:\n",
        "  print('A sua nota média é  ', media)\n",
        "if media >= 9.0:\n",
        "  if media <= 10:\n",
        "    print('NOTA A - APROVADO')\n",
        "if media <= 8.9:\n",
        "  if media >= 7.5: \n",
        "    print('NOTA B - APROVADO')\n",
        "if media <= 7.4:\n",
        "  if media >= 6.0:\n",
        "    print('NOTA C - APROVADO')\n",
        "if media <= 5.9:\n",
        "  if media >= 4.0:\n",
        "    print('NOTA D - REPROVADO')\n",
        "if media <= 3.9:\n",
        "    print('NOTA E - REPROVADO')"
      ],
      "metadata": {
        "id": "7xx1e5I7AncL",
        "colab": {
          "base_uri": "https://localhost:8080/"
        },
        "outputId": "81ccdb30-f534-44ae-a3b8-08216822b945"
      },
      "execution_count": 141,
      "outputs": [
        {
          "output_type": "stream",
          "name": "stdout",
          "text": [
            "Insira a sua nota 1:  7\n",
            "Insira a sua nota 2:  8\n",
            "A sua nota média é   7.5\n",
            "NOTA B - APROVADO\n"
          ]
        }
      ]
    },
    {
      "cell_type": "code",
      "source": [
        "#015 - Faça um Programa que peça os 3 lados de um triângulo. O programa deverá informar se os valores podem ser um triângulo. \n",
        "#Indique, caso os lados formem um triângulo, se o mesmo é: equilátero, isósceles ou escaleno. Dicas:\n",
        "#Três lados formam um triângulo quando a soma de quaisquer dos lados for maior que o terceiro;\n",
        "#Triângulo Equilátero: três lados iguais;\n",
        "#Triângulo Isósceles: quaisquer dois lados iguais;\n",
        "#Triângulo Escaleno: três lados diferentes;\n",
        "\n",
        "a = float(input('Tamanho do lado a:  '))\n",
        "b = float(input('Tamanho do lado b:  '))\n",
        "c = float(input('Tamanho do lado c:  '))\n",
        "\n",
        "if a == b == c:\n",
        "  print('Triângulo Equilátero')\n",
        "elif a == b != c:\n",
        "  print('Triângulo Isóceles')\n",
        "elif b == c != a:\n",
        "  print('Triângulo Isóceles')\n",
        "elif a == c != b:\n",
        "  print('Triângulo Isóceles')\n",
        "elif a != b != c:\n",
        "  print('Triângulo Escaleno')"
      ],
      "metadata": {
        "colab": {
          "base_uri": "https://localhost:8080/"
        },
        "id": "CIEtlhRCiyF9",
        "outputId": "64853be3-164d-4892-ada0-821fd85d552a"
      },
      "execution_count": null,
      "outputs": [
        {
          "output_type": "stream",
          "name": "stdout",
          "text": [
            "Tamanho do lado a:  2\n",
            "Tamanho do lado b:  2\n",
            "Tamanho do lado c:  4\n",
            "Triângulo Isóceles\n"
          ]
        }
      ]
    },
    {
      "cell_type": "code",
      "source": [
        "#016 - Faça um programa que calcule as raízes de uma equação do segundo grau, na forma ax2 + bx + c. O programa deverá pedir os valores de a, b e c e fazer \n",
        "#as consistências, informando ao usuário nas seguintes situações:\n",
        "#Se o usuário informar o valor de A igual a zero, a equação não é do segundo grau e o programa não deve fazer pedir os demais valores, sendo encerrado;\n",
        "#Se o delta calculado for negativo, a equação não possui raizes reais. Informe ao usuário e encerre o programa;\n",
        "#Se o delta calculado for igual a zero a equação possui apenas uma raiz real; informe-a ao usuário;\n",
        "#Se o delta for positivo, a equação possui duas raiz reais; informe-as ao usuário;\n",
        "\n",
        "import math\n",
        "\n",
        "print('Equaçao do 2o grau: ax² + bx + c')\n",
        "a = int(input('Valor de a: '))\n",
        "\n",
        "if a == 0:\n",
        "  print('Inválido')\n",
        "else:\n",
        "  b = int(input('Valor de b: '))\n",
        "  c = int(input('Valor de c: '))\n",
        "  delta = b*b - (4*a*c)\n",
        "  print(delta)\n",
        "\n",
        "  if delta < 0:\n",
        "    print('Delta menor que 0, inválido')\n",
        "  elif delta == 0:\n",
        "    raiz = -b / (2*a)\n",
        "    print('Delta = 0 , raiz = ', raiz)\n",
        "  else:\n",
        "    raiz1 = (-b + math.sqrt(delta)) / (2*a)\n",
        "    raiz2 = (-b - math.sqrt(delta)) / (2*a)\n",
        "    print('Raízes:', raiz1, 'e', raiz2)\n"
      ],
      "metadata": {
        "id": "7ocfSMOlzkaB",
        "colab": {
          "base_uri": "https://localhost:8080/"
        },
        "outputId": "cf7ee44d-1245-480b-9604-be8b477a45e7"
      },
      "execution_count": null,
      "outputs": [
        {
          "output_type": "stream",
          "name": "stdout",
          "text": [
            "Equaçao do 2o grau: ax² + bx + c\n",
            "Valor de a: 2\n",
            "Valor de b: 10\n",
            "Valor de c: 3\n",
            "76\n",
            "Raízes: -0.320550528229663 e -4.6794494717703365\n"
          ]
        }
      ]
    },
    {
      "cell_type": "code",
      "source": [
        "#017 - Faça um Programa que peça um número correspondente a um determinado ano e em seguida informe se este ano é ou não bissexto\n",
        "\n",
        "ano = int(input('Digite um ano: '))\n",
        "\n",
        "if (ano%4 == 0 and ano%100!= 0) or ano%400 == 0:\n",
        "  print('Ano bissexto')\n",
        "else:\n",
        "  print('Não é bissexto')"
      ],
      "metadata": {
        "id": "QGYqUzxIIP-6",
        "colab": {
          "base_uri": "https://localhost:8080/"
        },
        "outputId": "8c91338d-f851-42f3-8606-60c147a217db"
      },
      "execution_count": null,
      "outputs": [
        {
          "output_type": "stream",
          "name": "stdout",
          "text": [
            "Digite um ano: 2016\n",
            "Ano bissexto\n"
          ]
        }
      ]
    },
    {
      "cell_type": "code",
      "source": [
        "#018 - Faça um Programa que peça uma data no formato dd/mm/aaaa e determine se a mesma é uma data válida.\n",
        "\n",
        "dia = int(input('Insira um dia:   '))\n",
        "mes = int(input('Insira um mês:   '))\n",
        "ano = int(input('Insira um ano:   '))\n",
        "\n",
        "valida = False\n",
        "\n",
        "if (mes == 1 or mes == 3 or mes == 5 or mes == 7 or mes == 8 or mes == 10 or mes == 12):\n",
        "  if dia <= 31:\n",
        "    if ano >= 0:\n",
        "      valida = True\n",
        "if (mes == 4 or mes == 6 or mes == 9 or mes == 11):\n",
        "  if dia <= 30:\n",
        "    if ano >= 0:\n",
        "      valida = True\n",
        "if (mes == 2):\n",
        "  if (ano%4 == 0 and ano%100!= 0) or ano%400 == 0:\n",
        "    if dia <= 29:\n",
        "      if ano >= 0:\n",
        "        valida = True\n",
        "  elif dia <= 28:\n",
        "    if ano >= 0:\n",
        "      valida = True\n",
        "if(valida):\n",
        "  print('Data válida')\n",
        "else: \n",
        "  print('Data inválida')  \n"
      ],
      "metadata": {
        "id": "ouCm5qp_HA86",
        "colab": {
          "base_uri": "https://localhost:8080/"
        },
        "outputId": "917e70a4-6b98-4cf8-be96-3e4c42ef8e94"
      },
      "execution_count": null,
      "outputs": [
        {
          "output_type": "stream",
          "name": "stdout",
          "text": [
            "Insira um dia:   29\n",
            "Insira um mês:   02\n",
            "Insira um ano:   2018\n",
            "Data inválida\n"
          ]
        }
      ]
    },
    {
      "cell_type": "code",
      "source": [
        "#019 - Faça um Programa que leia um número inteiro menor que 1000 e imprima a quantidade de centenas, dezenas e unidades do mesmo.\n",
        "#Observando os termos no plural a colocação do \"e\", da vírgula entre outros. Exemplo:\n",
        "#326 = 3 centenas, 2 dezenas e 6 unidades\n",
        "#12 = 1 dezena e 2 unidades Testar com: 326, 300, 100, 320, 310,305, 301, 101, 311, 111, 25, 20, 10, 21, 11, 1, 7 e 16\n",
        "\n",
        "num = int(input('Insira numero menor que 1000:    '))\n",
        "\n",
        "if num >= 1000:\n",
        "  print('Número maior que 1000')\n",
        "else:\n",
        "  centenas = num//100\n",
        "  dezenas = (num%100)//10\n",
        "  unidades = ((num%100)%10)\n",
        "  print(centenas, 'centenas,', dezenas, 'dezenas e', unidades, 'unidades.')"
      ],
      "metadata": {
        "id": "bregcgABKnUM",
        "colab": {
          "base_uri": "https://localhost:8080/"
        },
        "outputId": "9fccdb85-90d7-442d-974f-f19181a9da20"
      },
      "execution_count": 143,
      "outputs": [
        {
          "output_type": "stream",
          "name": "stdout",
          "text": [
            "Insira numero menor que 1000:    999\n",
            "9 centenas, 9 dezenas e 9 unidades.\n"
          ]
        }
      ]
    },
    {
      "cell_type": "code",
      "source": [
        "#020 - Faça um Programa para leitura de três notas parciais de um aluno. O programa deve calcular a média alcançada por aluno e apresentar:\n",
        "#A mensagem \"Aprovado\", se a média for maior ou igual a 7, com a respectiva média alcançada;\n",
        "#A mensagem \"Reprovado\", se a média for menor do que 7, com a respectiva média alcançada;\n",
        "#A mensagem \"Aprovado com Distinção\", se a média for igual a 10\n",
        "\n",
        "nota1 = float(input('Insira a sua nota 1:  '))\n",
        "nota2 = float(input('Insira a sua nota 2:  '))\n",
        "nota3 = float(input('Insira a sua nota 3:  '))\n",
        "media = (nota1 + nota2 + nota3)/3\n",
        "\n",
        "if media <= 10:\n",
        "  print('A sua nota média é  ', media)\n",
        "if media == 10:\n",
        "  print('Aprovado com distinção')\n",
        "if media > 10:\n",
        "  print('nota inválida') \n",
        "if media >= 7:\n",
        "  if media <= 9.9:\n",
        "    print('APROVADO')\n",
        "if media <= 6.9:\n",
        "  if media >= 0: \n",
        "    print('REPROVADO')"
      ],
      "metadata": {
        "id": "hKKUJXIxPWMm",
        "colab": {
          "base_uri": "https://localhost:8080/"
        },
        "outputId": "85670550-8a08-4221-f6a7-c1d6339ce32f"
      },
      "execution_count": 145,
      "outputs": [
        {
          "output_type": "stream",
          "name": "stdout",
          "text": [
            "Insira a sua nota 1:  9\n",
            "Insira a sua nota 2:  9\n",
            "Insira a sua nota 3:  10\n",
            "A sua nota média é   9.333333333333334\n",
            "APROVADO\n"
          ]
        }
      ]
    },
    {
      "cell_type": "code",
      "source": [
        "#021 - Faça um Programa para um caixa eletrônico. O programa deverá perguntar ao usuário a valor do saque e depois informar quantas notas de \n",
        "#cada valor serão fornecidas. As notas disponíveis serão as de 1, 5, 10, 50 e 100 reais. O valor mínimo é de 10 reais e o máximo de 600 reais. \n",
        "#O programa não deve se preocupar com a quantidade de notas existentes na máquina.\n",
        "#Exemplo 1: Para sacar a quantia de 256 reais, o programa fornece duas notas de 100, uma nota de 50, uma nota de 5 e uma nota de 1;\n",
        "#Exemplo 2: Para sacar a quantia de 399 reais, o programa fornece três notas de 100, uma nota de 50, quatro notas de 10, uma nota de 5 e quatro notas de 1.\n",
        "\n",
        "valor = int(input('Quanto você deseja sacar?  '))\n",
        "\n",
        "n100 = valor//100\n",
        "n50 = (valor%100)//50\n",
        "n10 = ((valor%50)//10)\n",
        "n5 = ((valor%10)//5)\n",
        "n1 = (valor%5)\n",
        "\n",
        "print('notas de 100: ', n100)\n",
        "print('notas de 50: ', n50)\n",
        "print('notas de 10: ', n10)\n",
        "print('notas de 5: ', n5)\n",
        "print('notas de 1: ', n1)\n"
      ],
      "metadata": {
        "id": "PnOPPEfJPc7t",
        "colab": {
          "base_uri": "https://localhost:8080/"
        },
        "outputId": "46b903fc-e527-48ac-e7d1-2cb34e4dcdbd"
      },
      "execution_count": 146,
      "outputs": [
        {
          "output_type": "stream",
          "name": "stdout",
          "text": [
            "Quanto você deseja sacar?  4567\n",
            "notas de 100:  45\n",
            "notas de 50:  1\n",
            "notas de 10:  1\n",
            "notas de 5:  1\n",
            "notas de 1:  2\n"
          ]
        }
      ]
    },
    {
      "cell_type": "code",
      "source": [
        "#022 - Faça um Programa que peça um número inteiro e determine se ele é par ou impar. Dica: utilize o operador módulo (resto da divisão)\n",
        "\n",
        "num = int(input('Digite um número: '))\n",
        "\n",
        "if num % 2 == 0:\n",
        "  print('Número par')\n",
        "else:\n",
        "  print('Número ímpar')"
      ],
      "metadata": {
        "colab": {
          "base_uri": "https://localhost:8080/"
        },
        "id": "GLywlJi0RD6W",
        "outputId": "dd404b73-41a3-46ec-96b7-e0866534a9ca"
      },
      "execution_count": 148,
      "outputs": [
        {
          "output_type": "stream",
          "name": "stdout",
          "text": [
            "Digite um número: 4\n",
            "Número par\n"
          ]
        }
      ]
    },
    {
      "cell_type": "code",
      "source": [
        "#023 - Faça um Programa que peça um número e informe se o número é inteiro ou decimal. Dica: utilize uma função de arredondamento\n",
        "\n",
        "num = float(input('Digite um número:  '))\n",
        "\n",
        "if num == round(num):\n",
        "  print(\"Inteiro\")\n",
        "else:\n",
        "  print(\"Decimal\")"
      ],
      "metadata": {
        "id": "0vD24OhyR5_S",
        "colab": {
          "base_uri": "https://localhost:8080/"
        },
        "outputId": "94ce2484-f56e-456b-f474-b1099950ce52"
      },
      "execution_count": 150,
      "outputs": [
        {
          "output_type": "stream",
          "name": "stdout",
          "text": [
            "Digite um número:  3\n",
            "Inteiro\n"
          ]
        }
      ]
    },
    {
      "cell_type": "code",
      "source": [
        "#024 - Faça um Programa que leia 2 números e em seguida pergunte ao usuário qual operação ele deseja realizar. \n",
        "#O resultado da operação deve ser acompanhado de uma frase que diga se o número é:\n",
        "#par ou ímpar;\n",
        "#positivo ou negativo;\n",
        "#inteiro ou decimal.\n",
        "\n",
        "a = float(input('Digite um número:  '))\n",
        "b = float(input('Digite outro número:  '))\n",
        "op = input('Digite a operação desejada +, -, * ou /:  ')\n",
        "\n",
        "if op == '+':\n",
        "  print('Resultado', a+b)\n",
        "  if a+b > 0:\n",
        "    print('Positivo')\n",
        "  else:\n",
        "    print('Negativo')\n",
        "  if a+b == round(a+b):\n",
        "    print(\"Inteiro\")\n",
        "  else:\n",
        "    print(\"Decimal\")\n",
        "elif op == '-':\n",
        "  print(a-b)\n",
        "  if a-b > 0:\n",
        "    print('Positivo')\n",
        "  else:\n",
        "    print('Negativo')\n",
        "  if a-b == round(a-b):\n",
        "    print(\"Inteiro\")\n",
        "  else:\n",
        "    print(\"Decimal\")\n",
        "elif op == '*':\n",
        "  print(a*b)\n",
        "  if a*b > 0:\n",
        "    print('Positivo')\n",
        "  else:\n",
        "    print('Negativo')\n",
        "  if a*b == round(a*b):\n",
        "    print(\"Inteiro\")\n",
        "  else:\n",
        "    print(\"Decimal\")\n",
        "elif op == '/':\n",
        "  print(a/b)\n",
        "  if a+b > 0:\n",
        "    print('Positivo')\n",
        "  else:\n",
        "    print('Negativo')\n",
        "  if a/b == round(a/b):\n",
        "    print(\"Inteiro\")\n",
        "  else:\n",
        "    print(\"Decimal\")"
      ],
      "metadata": {
        "id": "-p3hVq7jBGYc",
        "colab": {
          "base_uri": "https://localhost:8080/"
        },
        "outputId": "2b05e329-efd8-468b-ef02-be17c53ddd86"
      },
      "execution_count": null,
      "outputs": [
        {
          "output_type": "stream",
          "name": "stdout",
          "text": [
            "Digite um número:  4.3\n",
            "Digite outro número:  5\n",
            "Digite a operação desejada +, -, * ou /:  -\n",
            "-0.7000000000000002\n",
            "Negativo\n",
            "Decimal\n"
          ]
        }
      ]
    },
    {
      "cell_type": "code",
      "source": [
        "#025 - Faça um programa que faça 5 perguntas para uma pessoa sobre um crime. As perguntas são:\n",
        "#\"Telefonou para a vítima?\"\n",
        "#\"Esteve no local do crime?\"\n",
        "#\"Mora perto da vítima?\"\n",
        "#\"Devia para a vítima?\"\n",
        "#\"Já trabalhou com a vítima?\" \n",
        "#O programa deve no final emitir uma classificação sobre a participação da pessoa no crime. \n",
        "#Se a pessoa responder positivamente a 2 questões ela deve ser classificada como \"Suspeita\", entre 3 e 4 como \"Cúmplice\" e 5 como \"Assassino\". \n",
        "#Caso contrário, ele será classificado como \"Inocente\".\n",
        "\n",
        "perg1 = input('Telefonou para a vítima? ')\n",
        "perg2 = input('Esteve no local do crime? ')\n",
        "perg3 = input('Mora perto da vítima? ')\n",
        "perg4 = input('Devia para a vítima? ')\n",
        "perg5 = input('Já trabalhou com a vítima? ')\n",
        "count = 0\n",
        "if perg1 == 'S':\n",
        "  count = count +1\n",
        "if perg2 == 'S':\n",
        "  count = count +1\n",
        "if perg3 == 'S':\n",
        "  count = count +1\n",
        "if perg4 == 'S':\n",
        "  count = count +1\n",
        "if perg5 == 'S':\n",
        "  count = count +1\n",
        "\n",
        "if count == 2:\n",
        "  print('Suspeita')\n",
        "elif count == 3 or count == 4:\n",
        "  print('Cúmplice')\n",
        "elif count == 5:\n",
        "  print('Assasino')\n",
        "else:\n",
        "  print('Inocente')\n"
      ],
      "metadata": {
        "id": "_HEm4UpqBOcP",
        "colab": {
          "base_uri": "https://localhost:8080/"
        },
        "outputId": "da98b141-3511-414f-88d9-c85db88ebd6d"
      },
      "execution_count": 151,
      "outputs": [
        {
          "output_type": "stream",
          "name": "stdout",
          "text": [
            "Telefonou para a vítima? S\n",
            "Esteve no local do crime? S\n",
            "Mora perto da vítima? N\n",
            "Devia para a vítima? S\n",
            "Já trabalhou com a vítima? N\n",
            "Cúmplice\n"
          ]
        }
      ]
    },
    {
      "cell_type": "code",
      "source": [
        "#026 - Um posto está vendendo combustíveis com a seguinte tabela de descontos:\n",
        "#Álcool:até 20 litros, desconto de 3% por litro\n",
        "#acima de 20 litros, desconto de 5% por litro\n",
        "#Gasolina: até 20 litros, desconto de 4% por litro\n",
        "#acima de 20 litros, desconto de 6% por litro Escreva um algoritmo que leia o número de litros vendidos, o tipo de combustível \n",
        "#(codificado da seguinte forma: A-álcool, G-gasolina), calcule e imprima o valor a ser pago pelo cliente sabendo-se que o \n",
        "#preço do litro da gasolina é R$ 2,50 o preço do litro do álcool é R$ 1,90.\n",
        "\n",
        "tipo = input('Alcool(A) ou Gasolina(G)?  ' )\n",
        "\n",
        "if tipo == 'A':\n",
        "  print('Alcool')\n",
        "  qtde = float(input('Quantos litros?  ' ))\n",
        "  if qtde <= 20:\n",
        "    print('Qtde de litros: ', qtde, 'no valor de R$: ', qtde*(1.9*0.97))\n",
        "  else:\n",
        "    print('Qtde de litros: ', qtde, 'no valor de R$: ', qtde*(1.9*0.95))\n",
        "\n",
        "elif tipo == 'G':\n",
        "  print('Gasolina')\n",
        "  qtde = float(input('Quantos litros?  ' ))\n",
        "  if qtde <= 20:\n",
        "    print('Qtde de litros: ', qtde, 'no valor de R$: ', qtde*(2.5*0.96))\n",
        "  else:\n",
        "    print('Qtde de litros: ', qtde, 'no valor de R$: ', qtde*(2.5*0.94))\n",
        "\n",
        "else: \n",
        "  print('Inválido. Escolha entre A ou G')\n"
      ],
      "metadata": {
        "id": "GNAmBVNjBn2J",
        "colab": {
          "base_uri": "https://localhost:8080/"
        },
        "outputId": "5d4670c3-3847-4965-a6eb-c77166a9075b"
      },
      "execution_count": 152,
      "outputs": [
        {
          "output_type": "stream",
          "name": "stdout",
          "text": [
            "Alcool(A) ou Gasolina(G)?  G\n",
            "Gasolina\n",
            "Quantos litros?  20\n",
            "Qtde de litros:  20.0 no valor de R$:  48.0\n"
          ]
        }
      ]
    },
    {
      "cell_type": "code",
      "source": [
        "#027 - Uma fruteira está vendendo frutas com a seguinte tabela de preços:\n",
        "#                     Até 5 Kg           Acima de 5 Kg\n",
        "#Morango         R$ 2,50 por Kg          R$ 2,20 por Kg\n",
        "#Maçã            R$ 1,80 por Kg          R$ 1,50 por Kg\n",
        "#Se o cliente comprar mais de 8 Kg em frutas ou o valor total da compra ultrapassar R$ 25,00, receberá ainda um desconto de 10% sobre este total. \n",
        "#Escreva um algoritmo para ler a quantidade (em Kg) de morangos e a quantidade (em Kg) de maças adquiridas e escreva o valor a ser pago pelo cliente.\n",
        "\n",
        "qtdemaça = float(input('Quantos kg de maçã?  '))\n",
        "\n",
        "if qtdemaça < 5:\n",
        "  valormaça = qtdemaça*1.8\n",
        "  print('Peso da maçã: ', qtdemaça,'kg')\n",
        "  print('Preço: R$', valormaça)\n",
        "else:\n",
        "  valormaça = qtdemaça*1.5\n",
        "  print('Peso da maçã: ', qtdemaça,'kg')\n",
        "  print('Preço: R$', valormaça)\n",
        "      \n",
        "qtdemorango = float(input('Quantos kg de morango?  '))\n",
        "\n",
        "if qtdemorango < 5:\n",
        "  valormorango = qtdemorango*2.5\n",
        "  print('Peso do morango:', qtdemorango,'kg')\n",
        "  print('Preço: R$', valormorango)\n",
        "else:\n",
        "  valormorango = qtdemorango*2.2\n",
        "  print('Peso do morango:', qtdemorango)\n",
        "  print('Preço: R$', valormorango,'kg')\n",
        "\n",
        "qtdetotal = qtdemaça + qtdemorango\n",
        "valortotal = valormorango + valormaça\n",
        "print('Valor total: R$', valortotal)\n",
        "\n",
        "if qtdetotal > 8:\n",
        "  print(qtdetotal,'Kg')\n",
        "  print(valortotal*0.9)\n",
        "elif valortotal > 25:\n",
        "  print(valortotal*0.9)"
      ],
      "metadata": {
        "id": "fcm5E8CyCFQh",
        "colab": {
          "base_uri": "https://localhost:8080/"
        },
        "outputId": "015c844b-415a-440a-c2bf-f3bc9260d91a"
      },
      "execution_count": null,
      "outputs": [
        {
          "output_type": "stream",
          "name": "stdout",
          "text": [
            "Quantos kg de maçã?  10\n",
            "Peso da maçã:  10.0 kg\n",
            "Preço: R$ 15.0\n",
            "Quantos kg de morango?  2\n",
            "Peso do morango: 2.0 kg\n",
            "Preço: R$ 5.0\n",
            "Valor total: R$ 20.0\n",
            "12.0 Kg\n",
            "18.0\n"
          ]
        }
      ]
    },
    {
      "cell_type": "code",
      "source": [
        "#028 - O Hipermercado Tabajara está com uma promoção de carnes que é imperdível. Confira:\n",
        "#                      Até 5 Kg           Acima de 5 Kg\n",
        "#File Duplo      R$ 4,90 por Kg          R$ 5,80 por Kg\n",
        "#Alcatra         R$ 5,90 por Kg          R$ 6,80 por Kg\n",
        "#Picanha         R$ 6,90 por Kg          R$ 7,80 por Kg\n",
        "#Para atender a todos os clientes, cada cliente poderá levar apenas um dos tipos de carne da promoção, \n",
        "#porém não há limites para a quantidade de carne por cliente. Se compra for feita no cartão Tabajara o cliente receberá ainda um desconto de 5% sobre o \n",
        "#total da compra. Escreva um programa que peça o tipo e a quantidade de carne comprada pelo usuário e gere um cupom fiscal, \n",
        "#contendo as informações da compra: tipo e quantidade de carne, preço total, tipo de pagamento, valor do desconto e valor a pagar.\n",
        "\n",
        "carne = input('Qual tipo de carne: Filé(F), Alcatra(A) ou Picanha(P)?  ')\n",
        "\n",
        "if carne == 'F':\n",
        "  qtde = float(input('Quantidade do filé em kg: '))\n",
        "  cartao = input('Vai usar cartão da loja? Sim ou Não: ')\n",
        "  if qtde > 5:\n",
        "    valor = qtde * 5.80\n",
        "    print('Filé Duplo')\n",
        "    print('Qtde: ',qtde,'kg')\n",
        "    print('Preço: R$ ',valor)\n",
        "  else:\n",
        "    valor = qtde * 4.90\n",
        "    print('Filé Duplo')\n",
        "    print('Qtde: ',qtde,'kg')\n",
        "    print('Preço: R$ ',valor)\n",
        "  if cartao == 'Sim':\n",
        "    print('Seu desconto com cartão da loja é: R$ ',valor - (valor * 0.95))\n",
        "    print('Valor total da compra R$ ',(valor * 0.95))\n",
        "    print('Obrigado!')\n",
        "\n",
        "elif carne == 'A':\n",
        "  qtde = float(input('Quantidade de Alcatra em kg: '))\n",
        "  cartao = input('Vai usar cartão da loja? Sim ou Não: ')\n",
        "  if qtde > 5:  \n",
        "    valor = qtde * 5.90\n",
        "    print('Alcatra')\n",
        "    print('Qtde: ',qtde,'kg')\n",
        "    print('Preço: R$ ',valor)\n",
        "  else:\n",
        "    valor = qtde * 6.80\n",
        "    print('Alcatra')\n",
        "    print('Qtde: ',qtde,'kg')\n",
        "    print('Preço: R$ ',valor)\n",
        "  if cartao == 'Sim':\n",
        "    print('Seu desconto com cartão da loja é: R$ ',valor - (valor * 0.95))\n",
        "    print('Valor total da compra R$ ',(valor * 0.95))\n",
        "    print('Obrigado!')\n",
        "\n",
        "elif carne == 'P':\n",
        "  qtde = float(input('Quantidade de Picanha em kg: ')) \n",
        "  cartao = input('Vai usar cartão da loja? Sim ou Não: ')\n",
        "  if qtde > 5:  \n",
        "    valor = qtde * 7.80\n",
        "    print('Picanha')\n",
        "    print('Qtde: ',qtde,'kg')\n",
        "    print('Preço: R$ ',valor)\n",
        "  else:\n",
        "    valor = qtde * 6.9\n",
        "    print('Picanha')\n",
        "    print('Qtde: ',qtde,'kg')\n",
        "    print('Preço: R$ ',valor)  \n",
        "  if cartao == 'Sim':\n",
        "    print('Seu desconto com cartão da loja é: R$ ',valor - (valor * 0.95))\n",
        "    print('Valor total da compra R$ ',(valor * 0.95))\n",
        "    print('Obrigado!')\n",
        "\n",
        "else:\n",
        "  print('Inválido, escolha entre A, F ou P')\n"
      ],
      "metadata": {
        "colab": {
          "base_uri": "https://localhost:8080/"
        },
        "outputId": "d188ffb5-5aae-4b44-93d8-61fbbeae6778",
        "id": "Nld9bBmRJ9hW"
      },
      "execution_count": 153,
      "outputs": [
        {
          "output_type": "stream",
          "name": "stdout",
          "text": [
            "Qual tipo de carne: Filé(F), Alcatra(A) ou Picanha(P)?  A\n",
            "Quantidade de Alcatra em kg: 10\n",
            "Vai usar cartão da loja? Sim ou Não: Sim\n",
            "Alcatra\n",
            "Qtde:  10.0 kg\n",
            "Preço: R$  59.0\n",
            "Seu desconto com cartão da loja é: R$  2.950000000000003\n",
            "Valor total da compra R$  56.05\n",
            "Obrigado!\n"
          ]
        }
      ]
    }
  ]
}