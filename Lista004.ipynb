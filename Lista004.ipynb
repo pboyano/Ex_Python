{
  "nbformat": 4,
  "nbformat_minor": 0,
  "metadata": {
    "colab": {
      "name": "Lista004.ipynb",
      "provenance": [],
      "collapsed_sections": [],
      "authorship_tag": "ABX9TyOWT428TjXKAvV/41wlBPuR",
      "include_colab_link": true
    },
    "kernelspec": {
      "name": "python3",
      "display_name": "Python 3"
    },
    "language_info": {
      "name": "python"
    }
  },
  "cells": [
    {
      "cell_type": "markdown",
      "metadata": {
        "id": "view-in-github",
        "colab_type": "text"
      },
      "source": [
        "<a href=\"https://colab.research.google.com/github/pboyano/Ex_Python/blob/main/Lista004.ipynb\" target=\"_parent\"><img src=\"https://colab.research.google.com/assets/colab-badge.svg\" alt=\"Open In Colab\"/></a>"
      ]
    },
    {
      "cell_type": "markdown",
      "source": [
        "Lista de Exercícios PythonBrasil - 004 - Listas\n",
        "\n",
        "Site: https://wiki.python.org.br/ExerciciosListas"
      ],
      "metadata": {
        "id": "9OPeYE0hxu-P"
      }
    },
    {
      "cell_type": "code",
      "execution_count": null,
      "metadata": {
        "id": "11RqzhX7xbIn"
      },
      "outputs": [],
      "source": [
        "#001 - Faça um Programa que leia um vetor de 5 números inteiros e mostre-os.\n",
        "\n",
        "numeros = []\n",
        "print('Digite 5 números: ')\n",
        "for i in range(5):\n",
        "  numeros.append(input('Número: ' + '\\n'))\n",
        "\n",
        "print(numeros)\n"
      ]
    },
    {
      "cell_type": "code",
      "source": [
        "#002 - Faça um Programa que leia um vetor de 10 números reais e mostre-os na ordem inversa.\n",
        "numeros = []\n",
        "print('Digite 10 números: ')\n",
        "for i in range(0,10):\n",
        "  numeros.append(input('Número: ' + '\\n'))\n",
        "numeros.reverse()\n",
        "print(numeros)"
      ],
      "metadata": {
        "id": "qhZSS4_6Rw_x"
      },
      "execution_count": null,
      "outputs": []
    },
    {
      "cell_type": "code",
      "source": [
        "#003 - Faça um Programa que leia 4 notas, mostre as notas e a média na tela.\n",
        "\n",
        "notas = []\n",
        "media = 0\n",
        "print('Digite 4 notas: ')\n",
        "for i in range(4):\n",
        "  notas.append(float(input('Digite sua nota: ' + str(i+1) + '\\n')))\n",
        "  media += notas[i]\n",
        " \n",
        "media = media/4\n",
        "\n",
        "print(notas)\n",
        "print(media)\n"
      ],
      "metadata": {
        "id": "s3UZg-irT2s9"
      },
      "execution_count": null,
      "outputs": []
    },
    {
      "cell_type": "code",
      "source": [
        "#004 - Faça um Programa que leia um vetor de 10 caracteres, e diga quantas consoantes foram lidas. Imprima as consoantes.\n",
        "\n",
        "lista = []\n",
        "consoantes = 0\n",
        "vogais = ['a', 'e', 'i', 'o', 'u']\n",
        "for i in range(10):\n",
        "  lista.append(input('Digite uma letra: ' + '\\n'))\n",
        "  letras = lista[i]\n",
        "  if(letras not in vogais):\n",
        "    consoantes += 1\n",
        "print(lista)\n",
        "print('São', consoantes,'consoantes')"
      ],
      "metadata": {
        "id": "cN2bqSvHW5LF"
      },
      "execution_count": null,
      "outputs": []
    },
    {
      "cell_type": "code",
      "source": [
        "#005 - Faça um Programa que leia 20 números inteiros e armazene-os num vetor. \n",
        "#Armazene os números pares no vetor PAR e os números IMPARES no vetor impar. Imprima os três vetores.\n",
        "\n",
        "listapar = []\n",
        "listaimpar = []\n",
        "todos = []\n",
        "\n",
        "numero = 0\n",
        "print('Digite 20 números: ')\n",
        "for i in range(20):\n",
        "  todos.append(int(input('Número: ' + '\\n')))\n",
        "  numero = todos[i]\n",
        "  if numero %2 == 0:\n",
        "    listapar.append(numero)\n",
        "  else:\n",
        "    listaimpar.append(numero)\n",
        "\n",
        "print('Lista de números pares: ',listapar)\n",
        "print('Lista de números ímpares:',listaimpar)   \n",
        "print('Todos os números:',todos)"
      ],
      "metadata": {
        "id": "AhEOgJr3blbo"
      },
      "execution_count": null,
      "outputs": []
    },
    {
      "cell_type": "code",
      "source": [
        "#006 - Faça um Programa que peça as quatro notas de 10 alunos, calcule e armazene num vetor a média de cada aluno, imprima o número de alunos com média \n",
        "#maior ou igual a 7.0.\n",
        "\n",
        "listamedias = []\n",
        "listaacima7 = []\n",
        "\n",
        "for i in range(10):\n",
        "  notas = []\n",
        "  media = 0\n",
        "  print('Digite 4 notas')\n",
        "  for i in range(4):\n",
        "    notas.append(float(input('Digite sua nota'+ str(i+1) + '\\n')))\n",
        "    media += notas[i]\n",
        "  media = media/4  \n",
        "  listamedias.append(media)\n",
        "\n",
        "  if media >= 7.0:\n",
        "    listaacima7.append(media)\n",
        "\n",
        "print('Lista de médias', listamedias)\n",
        "print('Lista de aprovados', len(listaacima7))"
      ],
      "metadata": {
        "id": "n1NUdl3t7G3a"
      },
      "execution_count": null,
      "outputs": []
    },
    {
      "cell_type": "code",
      "source": [
        "#007 - Faça um Programa que leia um vetor de 5 números inteiros, mostre a soma, a multiplicação e os números.\n",
        "\n",
        "numeros = []\n",
        "multiplica = 1\n",
        "i = 0\n",
        "print('Digite 5 números: ')\n",
        "for i in range(5):\n",
        "  numeros.append(int(input('Número: ' + '\\n')))\n",
        "  somanumeros = sum(numeros)\n",
        "  multiplica = multiplica*numeros[i]\n",
        "  i = i + 1\n",
        "\n",
        "print('Números: ',numeros)\n",
        "print('Soma: ',somanumeros)\n",
        "print('Multiplicação: ',multiplica)"
      ],
      "metadata": {
        "id": "C_otIDjoJcaR"
      },
      "execution_count": null,
      "outputs": []
    },
    {
      "cell_type": "code",
      "source": [
        "#008 - Faça um Programa que peça a idade e a altura de 5 pessoas, armazene cada informação no seu respectivo vetor. \n",
        "#Imprima a idade e a altura na ordem inversa a ordem lida.\n",
        "\n",
        "idade = []\n",
        "altura = []\n",
        "\n",
        "for i in range(5):\n",
        "  idade.append(input('Qual sua idade: '))\n",
        "  altura.append(float(input('Sua altura: ')))\n",
        "\n",
        "idade.reverse()\n",
        "altura.reverse()\n",
        "\n",
        "print('Idades:', idade)\n",
        "print('Alturas:', altura)"
      ],
      "metadata": {
        "id": "ei2TrROEs037"
      },
      "execution_count": null,
      "outputs": []
    },
    {
      "cell_type": "code",
      "source": [
        "#009 - Faça um Programa que leia um vetor A com 10 números inteiros, calcule e mostre a soma dos quadrados dos elementos do vetor.\n",
        "\n",
        "lista = []\n",
        "soma_quadrados = 0\n",
        "\n",
        "print('Digite 10 números inteiros')\n",
        "for i in range(0, 10):\n",
        "  lista.append(int(input('Digite um número:')))\n",
        "  soma_quadrados += (lista[len(lista)-1]**3)\n",
        "  \n",
        "print(lista)\n",
        "print(soma_quadrados)"
      ],
      "metadata": {
        "id": "BVAvgS1FDcF5"
      },
      "execution_count": null,
      "outputs": []
    },
    {
      "cell_type": "code",
      "source": [
        "#010 - Faça um Programa que leia dois vetores com 10 elementos cada. \n",
        "#Gere um terceiro vetor de 20 elementos, cujos valores deverão ser compostos pelos elementos intercalados dos dois outros vetores.\n",
        "\n",
        "VetorA = []\n",
        "VetorB = []\n",
        "VetorC = []\n",
        "\n",
        "for i in range(10):\n",
        "  VetorA.append(int(input('Digite um num para A:')))\n",
        "  VetorB.append(int(input('Digite um num para B:')))\n",
        "  VetorC.append(VetorA[i])\n",
        "  VetorC.append(VetorB[i])\n",
        "\n",
        "print(VetorC)"
      ],
      "metadata": {
        "id": "0JaYgmMusGa9"
      },
      "execution_count": null,
      "outputs": []
    },
    {
      "cell_type": "code",
      "source": [
        "#011 - Altere o programa anterior, intercalando 3 vetores de 10 elementos cada.\n",
        "\n",
        "VetorA = []\n",
        "VetorB = []\n",
        "VetorC = []\n",
        "VetorD = []\n",
        "\n",
        "for i in range(10):\n",
        "  VetorA.append(int(input('Digite um num para A:')))\n",
        "  VetorB.append(int(input('Digite um num para B:')))\n",
        "  VetorC.append(int(input('Digite um num para C:')))\n",
        "  VetorD.append(VetorA[i])\n",
        "  VetorD.append(VetorB[i])\n",
        "  VetorD.append(VetorC[i])\n",
        "\n",
        "print(VetorD)"
      ],
      "metadata": {
        "id": "avrIRkq9T0gp"
      },
      "execution_count": null,
      "outputs": []
    },
    {
      "cell_type": "code",
      "source": [
        "#012 - Foram anotadas as idades e alturas de 30 alunos. \n",
        "#Faça um Programa que determine quantos alunos com mais de 13 anos possuem altura inferior à média de altura desses alunos.\n",
        "\n",
        "idade = []\n",
        "altura = []\n",
        "idade_altura = []\n",
        "\n",
        "for i in range(30):\n",
        "  idade.append(int(input('Qual a sua idade: ')))\n",
        "  altura.append(float(input('Qual a sua altura: ')))\n",
        "\n",
        "media_altura = sum(altura)/len(altura)\n",
        "\n",
        "qtdealunos = 0\n",
        "for i in range(0, len(idade)):\n",
        "  if idade[i] > 13 and altura[i] < media_altura:\n",
        "    qtdealunos += + 1  \n",
        "\n",
        "print(idade)\n",
        "print(altura)\n",
        "print(media_altura)\n",
        "print('São',qtdealunos,'alunos com mais de 13 anos abaixo da média')"
      ],
      "metadata": {
        "id": "6SULUQ7tqCZE"
      },
      "execution_count": null,
      "outputs": []
    },
    {
      "cell_type": "code",
      "source": [
        "#015 - Faça um programa que leia um número indeterminado de valores, correspondentes a notas, \n",
        "#encerrando a entrada de dados quando for informado um valor igual a -1 (que não deve ser armazenado). Após esta entrada de dados, faça:\n",
        "#Mostre a quantidade de valores que foram lidos;\n",
        "#Exiba todos os valores na ordem em que foram informados, um ao lado do outro;\n",
        "#Exiba todos os valores na ordem inversa à que foram informados, um abaixo do outro;\n",
        "#Calcule e mostre a soma dos valores;\n",
        "#Calcule e mostre a média dos valores;\n",
        "#Calcule e mostre a quantidade de valores acima da média calculada;\n",
        "#Calcule e mostre a quantidade de valores abaixo de sete;\n",
        "#Encerre o programa com uma mensagem;\n",
        "\n",
        "valor = []\n",
        "numero = 0\n",
        "\n",
        "while numero != -1:\n",
        "  numero = int(input('Digite um valor: '))\n",
        "  valor.append(numero)\n",
        "valor.pop()\n",
        "print('Lista:', valor)\n",
        "  \n",
        "qtde_valor = len(valor)\n",
        "soma_valor = sum(valor)\n",
        "med_valor = sum(valor)/len(valor)\n",
        "\n",
        "print('Qtde de número na lista', qtde_valor)\n",
        "print('Soma dos valores da lista', soma_valor)\n",
        "print('Média da lista', med_valor)\n",
        "\n",
        "count = 0\n",
        "for i in valor:\n",
        "  if i > med_valor:\n",
        "    count += 1\n",
        "print('Valores maiores que a média:', count)\n",
        "\n",
        "count = 0\n",
        "for i in valor:\n",
        "  if i < med_valor:\n",
        "    count +=1\n",
        "print('Valores menores que a média:', count)\n",
        "\n",
        "count = 0\n",
        "for i in valor:\n",
        "  if i < 7:\n",
        "    count +=1\n",
        "print('Valores menores que 7:', count)\n",
        "\n",
        "print('Programa encerrado. Tchau!')"
      ],
      "metadata": {
        "id": "3CZeNRMhS09B"
      },
      "execution_count": null,
      "outputs": []
    },
    {
      "cell_type": "code",
      "source": [
        "#017 - Em uma competição de salto em distância cada atleta tem direito a cinco saltos. \n",
        "#O resultado do atleta será determinado pela média dos cinco valores restantes. Você deve fazer um programa que receba o nome e as cinco \n",
        "#distâncias alcançadas pelo atleta em seus saltos e depois informe o nome, os saltos e a média dos saltos. \n",
        "#O programa deve ser encerrado quando não for informado o nome do atleta. A saída do programa deve ser conforme o exemplo abaixo:\n",
        "\n",
        "atleta = input('Nome do atleta: ')\n",
        "if atleta == '':\n",
        "  print('Encerrado')\n",
        "else:\n",
        "  salto = []\n",
        "  for i in range(5):\n",
        "      salto.append(float(input('Salto:' + str(i+1) + '\\n')))\n",
        "  \n",
        "  media = sum(salto)/len(salto)\n",
        "  salto = ' - '.join(map(str, salto))\n",
        "\n",
        "  print('Atleta: ', atleta)\n",
        "  print('Saltos: ', salto)\n",
        "  print('Média: ', media,'m')\n"
      ],
      "metadata": {
        "id": "GyQS5PmopSqG"
      },
      "execution_count": null,
      "outputs": []
    },
    {
      "cell_type": "code",
      "source": [
        "#018 - Uma grande emissora de televisão quer fazer uma enquete entre os seus telespectadores para saber qual o melhor jogador após cada jogo. \n",
        "#Para isto, faz-se necessário o desenvolvimento de um programa, que será utilizado pelas telefonistas, para a computação dos votos. ]\n",
        "#Sua equipe foi contratada para desenvolver este programa, utilizando a linguagem de programação C++. #\n",
        "#Para computar cada voto, a telefonista digitará um número, entre 1 e 23, correspondente ao número da camisa do jogador. \n",
        "#Um número de jogador igual zero, indica que a votação foi encerrada. Se um número inválido for digitado, o programa deve ignorá-lo, \n",
        "#mostrando uma breve mensagem de aviso, e voltando a pedir outro número. Após o final da votação, o programa deverá exibir:\n",
        "#O total de votos computados;\n",
        "#Os númeos e respectivos votos de todos os jogadores que receberam votos;\n",
        "#O percentual de votos de cada um destes jogadores;\n",
        "#O número do jogador escolhido como o melhor jogador da partida, juntamente com o número de votos e o percentual de votos dados a ele.\n",
        "#Observe que os votos inválidos e o zero final não devem ser computados como votos. O resultado aparece ordenado pelo número do jogador. \n",
        "#O programa deve fazer uso de arrays. O programa deverá executar o cálculo do percentual de cada jogador através de uma função. \n",
        "#Esta função receberá dois parâmetros: o número de votos de um jogador e o total de votos. A função calculará o percentual e retornará o valor calculado. \n",
        "#Abaixo segue uma tela de exemplo. O disposição das informações deve ser o mais próxima possível ao exemplo. \n",
        "#Os dados são fictícios e podem mudar a cada execução do programa. Ao final, o programa deve ainda gravar os dados referentes ao resultado da votação \n",
        "#em um arquivo texto no disco, obedecendo a mesma disposição apresentada na tela.\n",
        "\n",
        "jogador = [] #criação da lista vazia\n",
        "voto = int(input('Digite seu voto de 1 a 23: ')) #itens que serão acrescidos na lista\n",
        "jogador.append(voto) #append acrescenta os itens no final da lista\n",
        "\n",
        "while voto > 0: #faz o loop se for maior que 0\n",
        "  if voto <= 23: #e se for menos ou igual 23\n",
        "    voto = int(input('Digite seu voto de 1 a 23: ')) #input da pergunta\n",
        "    jogador.append(voto) #acrescenta as respostas do voto na lista jogador\n",
        "  if voto > 23: #se o voto for maior que 23, ele dá instruções\n",
        "    voto = int(input('Informe um valor entre 1 e 23 ou 0 para sair:'))\n",
        "  if voto == 0: #se for = 0, ele encerra e para\n",
        "    print('Votação encerrada')\n",
        "    break\n",
        "\n",
        "jogador.pop() #pop elimina o último item da lista jogador que aqui é o 0\n",
        "print('Votos computados: ', jogador)\n",
        "print('Quantidade de votos: ', len(jogador)) #len conta quantos itens tem na lista jogador\n",
        "\n",
        "campeao = 0\n",
        "campeaovotos = 0\n",
        "\n",
        "for i in range(1,24):\n",
        "  atualvotos = jogador.count(i)\n",
        "  if atualvotos != 0:  \n",
        "    porcentagem = 100*(atualvotos)/len(jogador)\n",
        "    print('O jogador', i, 'teve', atualvotos, 'votos e a porcentagem', porcentagem,'% do total de votos') \n",
        "    if atualvotos > campeaovotos:\n",
        "      campeao = i\n",
        "      campeaovotos = atualvotos\n",
        "      porcent = 100*(atualvotos)/len(jogador)\n",
        "\n",
        "print('O jogador',campeao,'é o campeão, com',campeaovotos,'votos, e porcentagem de',porcent,'%')\n"
      ],
      "metadata": {
        "id": "OTH6QUWx5lRR"
      },
      "execution_count": null,
      "outputs": []
    },
    {
      "cell_type": "code",
      "source": [
        "\"\"\"\n",
        "019 - Uma empresa de pesquisas precisa tabular os resultados da seguinte enquete feita a um grande quantidade de organizações:\n",
        "\"Qual o melhor Sistema Operacional para uso em servidores?\"\n",
        "As possíveis respostas são:\n",
        "1- Windows Server\n",
        "2- Unix\n",
        "3- Linux\n",
        "4- Netware\n",
        "5- Mac OS\n",
        "6- Outro\n",
        "Você foi contratado para desenvolver um programa que leia o resultado da enquete e informe ao final o resultado da mesma. \n",
        "O programa deverá ler os valores até ser informado o valor 0, que encerra a entrada dos dados. \n",
        "Não deverão ser aceitos valores além dos válidos para o programa (0 a 6). \n",
        "Os valores referentes a cada uma das opções devem ser armazenados num vetor. \n",
        "Após os dados terem sido completamente informados, o programa deverá calcular a percentual de cada um dos concorrentes e informar o vencedor da enquete. \n",
        "O formato da saída foi dado pela empresa, e é o seguinte:\n",
        "Sistema Operacional     Votos   %\n",
        "-------------------     -----   ---\n",
        "Windows Server           1500   17%\n",
        "Unix                     3500   40%\n",
        "Linux                    3000   34%\n",
        "Netware                   500    5%\n",
        "Mac OS                    150    2%\n",
        "Outro                     150    2%\n",
        "-------------------     -----\n",
        "Total                    8800\n",
        "\n",
        "O Sistema Operacional mais votado foi o Unix, com 3500 votos, correspondendo a 40% dos votos...\n",
        "\"\"\"\n",
        "\n",
        "dic_sistemas = {1:'Windows Server', 2:'Unix', 3:'Linux', 4:'Netware',5:'Mac OS', 6:'Outro'}\n",
        "lista_votos = []\n",
        "voto = int(input('Qual o melhor Sistema Operacional para uso em servidores? Escolha de 1 a 6: '))\n",
        "lista_votos.append(voto)\n",
        "\n",
        "while voto > 0:\n",
        "  if voto <= 6:\n",
        "    voto = int(input('Qual o melhor Sistema Operacional para uso em servidores? Escolha de 1 a 6: '))\n",
        "    lista_votos.append(voto)\n",
        "  if voto > 6:\n",
        "    voto = int(input('Qual o melhor Sistema Operacional para uso em servidores? Escolha de 1 a 6 ou 0 para sair: '))\n",
        "else:\n",
        "  print('Votação Encerrada')\n",
        "\n",
        "lista_votos.pop()\n",
        "print(lista_votos)\n",
        "print('Quantidade total de votos', len(lista_votos))\n",
        "\n",
        "lider = 0\n",
        "lidervotado = 0\n",
        "for i in range(1,7):\n",
        "  atual_lider = lista_votos.count(i)\n",
        "  porcentagem = 100*(atual_lider)/len(lista_votos)\n",
        "  print('O sistema', dic_sistemas.get(i), 'teve',atual_lider, 'votos e a porcentagem de', porcentagem)\n",
        "  if atual_lider > lider:\n",
        "    lider = i\n",
        "    lidervotado = atual_lider\n",
        "    porcentlider =  100*(atual_lider)/len(lista_votos)\n",
        "\n",
        "print('O sistema operacional mais votado é o',dic_sistemas.get(lider), 'com',lidervotado,'votos e porcentagem',porcentlider)\n"
      ],
      "metadata": {
        "id": "yTfdMirjEc0I"
      },
      "execution_count": null,
      "outputs": []
    }
  ]
}